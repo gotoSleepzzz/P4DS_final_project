{
 "cells": [
  {
   "cell_type": "markdown",
   "id": "a9d6c560",
   "metadata": {},
   "source": [
    "## Import các thư viện cần thiết"
   ]
  },
  {
   "cell_type": "code",
   "execution_count": 24,
   "id": "74c38b2a",
   "metadata": {},
   "outputs": [],
   "source": [
    "import numpy as np\n",
    "import pandas as pd\n",
    "import matplotlib.pyplot as plt"
   ]
  },
  {
   "cell_type": "markdown",
   "id": "635599c8",
   "metadata": {},
   "source": [
    "---"
   ]
  },
  {
   "cell_type": "markdown",
   "id": "a6b01b59",
   "metadata": {},
   "source": [
    "## Đọc dữ liệu"
   ]
  },
  {
   "cell_type": "code",
   "execution_count": 4,
   "id": "e2886aca",
   "metadata": {},
   "outputs": [],
   "source": [
    "df = pd.read_csv('./bank.csv')"
   ]
  },
  {
   "cell_type": "code",
   "execution_count": 25,
   "id": "3fc35fb3",
   "metadata": {},
   "outputs": [
    {
     "data": {
      "text/html": [
       "<div>\n",
       "<style scoped>\n",
       "    .dataframe tbody tr th:only-of-type {\n",
       "        vertical-align: middle;\n",
       "    }\n",
       "\n",
       "    .dataframe tbody tr th {\n",
       "        vertical-align: top;\n",
       "    }\n",
       "\n",
       "    .dataframe thead th {\n",
       "        text-align: right;\n",
       "    }\n",
       "</style>\n",
       "<table border=\"1\" class=\"dataframe\">\n",
       "  <thead>\n",
       "    <tr style=\"text-align: right;\">\n",
       "      <th></th>\n",
       "      <th>age</th>\n",
       "      <th>job</th>\n",
       "      <th>marital</th>\n",
       "      <th>education</th>\n",
       "      <th>default</th>\n",
       "      <th>balance</th>\n",
       "      <th>housing</th>\n",
       "      <th>loan</th>\n",
       "      <th>contact</th>\n",
       "      <th>day</th>\n",
       "      <th>month</th>\n",
       "      <th>duration</th>\n",
       "      <th>campaign</th>\n",
       "      <th>pdays</th>\n",
       "      <th>previous</th>\n",
       "      <th>poutcome</th>\n",
       "      <th>deposit</th>\n",
       "    </tr>\n",
       "  </thead>\n",
       "  <tbody>\n",
       "    <tr>\n",
       "      <th>0</th>\n",
       "      <td>59</td>\n",
       "      <td>admin.</td>\n",
       "      <td>married</td>\n",
       "      <td>secondary</td>\n",
       "      <td>no</td>\n",
       "      <td>2343</td>\n",
       "      <td>yes</td>\n",
       "      <td>no</td>\n",
       "      <td>unknown</td>\n",
       "      <td>5</td>\n",
       "      <td>may</td>\n",
       "      <td>1042</td>\n",
       "      <td>1</td>\n",
       "      <td>-1</td>\n",
       "      <td>0</td>\n",
       "      <td>unknown</td>\n",
       "      <td>yes</td>\n",
       "    </tr>\n",
       "    <tr>\n",
       "      <th>1</th>\n",
       "      <td>56</td>\n",
       "      <td>admin.</td>\n",
       "      <td>married</td>\n",
       "      <td>secondary</td>\n",
       "      <td>no</td>\n",
       "      <td>45</td>\n",
       "      <td>no</td>\n",
       "      <td>no</td>\n",
       "      <td>unknown</td>\n",
       "      <td>5</td>\n",
       "      <td>may</td>\n",
       "      <td>1467</td>\n",
       "      <td>1</td>\n",
       "      <td>-1</td>\n",
       "      <td>0</td>\n",
       "      <td>unknown</td>\n",
       "      <td>yes</td>\n",
       "    </tr>\n",
       "    <tr>\n",
       "      <th>2</th>\n",
       "      <td>41</td>\n",
       "      <td>technician</td>\n",
       "      <td>married</td>\n",
       "      <td>secondary</td>\n",
       "      <td>no</td>\n",
       "      <td>1270</td>\n",
       "      <td>yes</td>\n",
       "      <td>no</td>\n",
       "      <td>unknown</td>\n",
       "      <td>5</td>\n",
       "      <td>may</td>\n",
       "      <td>1389</td>\n",
       "      <td>1</td>\n",
       "      <td>-1</td>\n",
       "      <td>0</td>\n",
       "      <td>unknown</td>\n",
       "      <td>yes</td>\n",
       "    </tr>\n",
       "    <tr>\n",
       "      <th>3</th>\n",
       "      <td>55</td>\n",
       "      <td>services</td>\n",
       "      <td>married</td>\n",
       "      <td>secondary</td>\n",
       "      <td>no</td>\n",
       "      <td>2476</td>\n",
       "      <td>yes</td>\n",
       "      <td>no</td>\n",
       "      <td>unknown</td>\n",
       "      <td>5</td>\n",
       "      <td>may</td>\n",
       "      <td>579</td>\n",
       "      <td>1</td>\n",
       "      <td>-1</td>\n",
       "      <td>0</td>\n",
       "      <td>unknown</td>\n",
       "      <td>yes</td>\n",
       "    </tr>\n",
       "    <tr>\n",
       "      <th>4</th>\n",
       "      <td>54</td>\n",
       "      <td>admin.</td>\n",
       "      <td>married</td>\n",
       "      <td>tertiary</td>\n",
       "      <td>no</td>\n",
       "      <td>184</td>\n",
       "      <td>no</td>\n",
       "      <td>no</td>\n",
       "      <td>unknown</td>\n",
       "      <td>5</td>\n",
       "      <td>may</td>\n",
       "      <td>673</td>\n",
       "      <td>2</td>\n",
       "      <td>-1</td>\n",
       "      <td>0</td>\n",
       "      <td>unknown</td>\n",
       "      <td>yes</td>\n",
       "    </tr>\n",
       "  </tbody>\n",
       "</table>\n",
       "</div>"
      ],
      "text/plain": [
       "   age         job  marital  education default  balance housing loan  contact  \\\n",
       "0   59      admin.  married  secondary      no     2343     yes   no  unknown   \n",
       "1   56      admin.  married  secondary      no       45      no   no  unknown   \n",
       "2   41  technician  married  secondary      no     1270     yes   no  unknown   \n",
       "3   55    services  married  secondary      no     2476     yes   no  unknown   \n",
       "4   54      admin.  married   tertiary      no      184      no   no  unknown   \n",
       "\n",
       "   day month  duration  campaign  pdays  previous poutcome deposit  \n",
       "0    5   may      1042         1     -1         0  unknown     yes  \n",
       "1    5   may      1467         1     -1         0  unknown     yes  \n",
       "2    5   may      1389         1     -1         0  unknown     yes  \n",
       "3    5   may       579         1     -1         0  unknown     yes  \n",
       "4    5   may       673         2     -1         0  unknown     yes  "
      ]
     },
     "execution_count": 25,
     "metadata": {},
     "output_type": "execute_result"
    }
   ],
   "source": [
    "df.head()"
   ]
  },
  {
   "cell_type": "markdown",
   "id": "85bf2618",
   "metadata": {},
   "source": [
    "---"
   ]
  },
  {
   "cell_type": "markdown",
   "id": "1e5288e0",
   "metadata": {},
   "source": [
    "## Khám phá dữ liệu"
   ]
  },
  {
   "cell_type": "markdown",
   "id": "c4547fdc",
   "metadata": {},
   "source": [
    "### Dữ liệu có bao nhiêu dòng, bao nhiêu cột?"
   ]
  },
  {
   "cell_type": "code",
   "execution_count": 27,
   "id": "dfc8340f",
   "metadata": {},
   "outputs": [
    {
     "data": {
      "text/plain": [
       "(11162, 17)"
      ]
     },
     "execution_count": 27,
     "metadata": {},
     "output_type": "execute_result"
    }
   ],
   "source": [
    "df.shape"
   ]
  },
  {
   "cell_type": "markdown",
   "id": "d1e7b8d9",
   "metadata": {},
   "source": [
    "- Vậy dữ liệu có kích thước **11162 dòng x 17 cột**\n",
    "- Dữ liệu có liên quan đến các chiến dịch tiếp thị trực tiếp của một tổ chức ngân hàng Bồ Đào Nha. Các chiến dịch tiếp thị dựa trên các cuộc gọi điện thoại. Thông thường, cần có nhiều liên hệ với cùng một khách hàng, để biết xem khách hàng có gửi tiền kỳ hạn ngân hàng hay không."
   ]
  },
  {
   "cell_type": "markdown",
   "id": "61f26696",
   "metadata": {},
   "source": [
    "### Dữ liệu có bị lặp không?"
   ]
  },
  {
   "cell_type": "code",
   "execution_count": 30,
   "id": "c961ee7d",
   "metadata": {},
   "outputs": [
    {
     "data": {
      "text/plain": [
       "0"
      ]
     },
     "execution_count": 30,
     "metadata": {},
     "output_type": "execute_result"
    }
   ],
   "source": [
    "df.duplicated().sum()"
   ]
  },
  {
   "cell_type": "markdown",
   "id": "8b0ca0d1",
   "metadata": {},
   "source": [
    "- Vậy dữ liệu của ta không bị lặp"
   ]
  },
  {
   "cell_type": "markdown",
   "id": "dbeaf7b5",
   "metadata": {},
   "source": [
    "### Dữ liệu có bị thiếu không?"
   ]
  },
  {
   "cell_type": "code",
   "execution_count": 32,
   "id": "36d8012f",
   "metadata": {},
   "outputs": [
    {
     "data": {
      "text/plain": [
       "age          0\n",
       "job          0\n",
       "marital      0\n",
       "education    0\n",
       "default      0\n",
       "balance      0\n",
       "housing      0\n",
       "loan         0\n",
       "contact      0\n",
       "day          0\n",
       "month        0\n",
       "duration     0\n",
       "campaign     0\n",
       "pdays        0\n",
       "previous     0\n",
       "poutcome     0\n",
       "deposit      0\n",
       "dtype: int64"
      ]
     },
     "execution_count": 32,
     "metadata": {},
     "output_type": "execute_result"
    }
   ],
   "source": [
    "df.isna().sum()"
   ]
  },
  {
   "cell_type": "markdown",
   "id": "82a09cd7",
   "metadata": {},
   "source": [
    "- Theo như trên ta thấy dữ liệu không hề bị thiếu, nhưng ở bước đọc dữ liệu ta nhận thấy một vài cột có giá trị `unknown`, vậy có nghĩa là dữ liệu trong file đã thây những giá trị thiếu thành `unknown` vậy ta sẽ làm ngược lại để kiểm tra."
   ]
  },
  {
   "cell_type": "code",
   "execution_count": 54,
   "id": "bcde60f2",
   "metadata": {},
   "outputs": [
    {
     "data": {
      "text/plain": [
       "age             0\n",
       "job            70\n",
       "marital         0\n",
       "education     497\n",
       "default         0\n",
       "balance         0\n",
       "housing         0\n",
       "loan            0\n",
       "contact      2346\n",
       "day             0\n",
       "month           0\n",
       "duration        0\n",
       "campaign        0\n",
       "pdays           0\n",
       "previous        0\n",
       "poutcome     8326\n",
       "deposit         0\n",
       "dtype: int64"
      ]
     },
     "execution_count": 54,
     "metadata": {},
     "output_type": "execute_result"
    }
   ],
   "source": [
    "df.replace('unknown',np.nan,inplace=True)\n",
    "df.isna().sum()"
   ]
  },
  {
   "cell_type": "markdown",
   "id": "3b970830",
   "metadata": {},
   "source": [
    "- Hừm có vẻ lần này ta đã phát hiện ra những cột dữ liệu bị thiếu.\n",
    "- Cột dữ liệu bị thiếu là **education**, **contact** và **poutcome**"
   ]
  },
  {
   "cell_type": "markdown",
   "id": "4fa2d8a8",
   "metadata": {},
   "source": [
    "### Thông tin về các cột dữ liệu như sau"
   ]
  },
  {
   "cell_type": "code",
   "execution_count": 55,
   "id": "d10c375d",
   "metadata": {},
   "outputs": [
    {
     "data": {
      "text/plain": [
       "Index(['age', 'job', 'marital', 'education', 'default', 'balance', 'housing',\n",
       "       'loan', 'contact', 'day', 'month', 'duration', 'campaign', 'pdays',\n",
       "       'previous', 'poutcome', 'deposit'],\n",
       "      dtype='object')"
      ]
     },
     "execution_count": 55,
     "metadata": {},
     "output_type": "execute_result"
    }
   ],
   "source": [
    "df.columns"
   ]
  },
  {
   "cell_type": "markdown",
   "id": "c204bb17",
   "metadata": {},
   "source": [
    "* **age**: độ tuổi\n",
    "* **job**: loại công việc\n",
    "* **marital**: tình trạng hôn nhân\n",
    "* **education**: trình độ học vấn\n",
    "* **default**: có nợ xấu không\n",
    "* **balance**: số dư cá nhân\n",
    "* **housing**: có khoản nợ vay mua nhà không?\n",
    "* **loan**: có khoản vay cá nhân không\n",
    "* **contact**: cách thức liên lạc\n",
    "* **day**: ngày trong tuần liên lạc gần nhất\n",
    "* **month**: tháng liên lạc gần đây nhất\n",
    "* **duration**: thời lượng liên hệ gần nhất, tính bằng giây\n",
    "* **campaign**: số lượng địa chỉ liên hệ được thực hiện trong chiến dịch này và cho khách hàng này (số, bao gồm cả địa chỉ liên hệ cuối cùng)\n",
    "* **pdays**: số ngày trôi qua sau chiến dịch khi khách hàng liên lạc\n",
    "* **previous**: số lượng địa chỉ liên hệ được thực hiện trước chiến dịch này và cho khách hàng này\n",
    "* **poutcome**: kết quả tiếp thị trước đó với khách hàng này\n",
    "* **deposit**: khách hàng có đăng ký gửi tiền không\n"
   ]
  },
  {
   "cell_type": "markdown",
   "id": "b19d1dbb",
   "metadata": {},
   "source": [
    "### Kiểu dữ liệu ở từng cột như thế nào?"
   ]
  },
  {
   "cell_type": "code",
   "execution_count": 56,
   "id": "5b38df99",
   "metadata": {},
   "outputs": [
    {
     "name": "stdout",
     "output_type": "stream",
     "text": [
      "<class 'pandas.core.frame.DataFrame'>\n",
      "RangeIndex: 11162 entries, 0 to 11161\n",
      "Data columns (total 17 columns):\n",
      " #   Column     Non-Null Count  Dtype \n",
      "---  ------     --------------  ----- \n",
      " 0   age        11162 non-null  int64 \n",
      " 1   job        11092 non-null  object\n",
      " 2   marital    11162 non-null  object\n",
      " 3   education  10665 non-null  object\n",
      " 4   default    11162 non-null  object\n",
      " 5   balance    11162 non-null  int64 \n",
      " 6   housing    11162 non-null  object\n",
      " 7   loan       11162 non-null  object\n",
      " 8   contact    8816 non-null   object\n",
      " 9   day        11162 non-null  int64 \n",
      " 10  month      11162 non-null  object\n",
      " 11  duration   11162 non-null  int64 \n",
      " 12  campaign   11162 non-null  int64 \n",
      " 13  pdays      11162 non-null  int64 \n",
      " 14  previous   11162 non-null  int64 \n",
      " 15  poutcome   2836 non-null   object\n",
      " 16  deposit    11162 non-null  object\n",
      "dtypes: int64(7), object(10)\n",
      "memory usage: 1.4+ MB\n"
     ]
    }
   ],
   "source": [
    "df.info()"
   ]
  },
  {
   "cell_type": "markdown",
   "id": "aee52881",
   "metadata": {},
   "source": [
    "- Dữ liệu đã phù hợp, các cột cần là dữ số cũng đã được đặt đúng"
   ]
  },
  {
   "cell_type": "markdown",
   "id": "059d311b",
   "metadata": {},
   "source": [
    "### Phân bố của dữ liệu số như thế nào?"
   ]
  },
  {
   "cell_type": "code",
   "execution_count": 64,
   "id": "c433a3ed",
   "metadata": {},
   "outputs": [
    {
     "data": {
      "text/html": [
       "<div>\n",
       "<style scoped>\n",
       "    .dataframe tbody tr th:only-of-type {\n",
       "        vertical-align: middle;\n",
       "    }\n",
       "\n",
       "    .dataframe tbody tr th {\n",
       "        vertical-align: top;\n",
       "    }\n",
       "\n",
       "    .dataframe thead th {\n",
       "        text-align: right;\n",
       "    }\n",
       "</style>\n",
       "<table border=\"1\" class=\"dataframe\">\n",
       "  <thead>\n",
       "    <tr style=\"text-align: right;\">\n",
       "      <th></th>\n",
       "      <th>age</th>\n",
       "      <th>balance</th>\n",
       "      <th>day</th>\n",
       "      <th>duration</th>\n",
       "      <th>campaign</th>\n",
       "      <th>pdays</th>\n",
       "      <th>previous</th>\n",
       "    </tr>\n",
       "  </thead>\n",
       "  <tbody>\n",
       "    <tr>\n",
       "      <th>missing_ratio</th>\n",
       "      <td>0.0</td>\n",
       "      <td>0.0</td>\n",
       "      <td>0.0</td>\n",
       "      <td>0.0</td>\n",
       "      <td>0.0</td>\n",
       "      <td>0.0</td>\n",
       "      <td>0.0</td>\n",
       "    </tr>\n",
       "    <tr>\n",
       "      <th>min</th>\n",
       "      <td>18.0</td>\n",
       "      <td>-6847.0</td>\n",
       "      <td>1.0</td>\n",
       "      <td>2.0</td>\n",
       "      <td>1.0</td>\n",
       "      <td>-1.0</td>\n",
       "      <td>0.0</td>\n",
       "    </tr>\n",
       "    <tr>\n",
       "      <th>max</th>\n",
       "      <td>95.0</td>\n",
       "      <td>81204.0</td>\n",
       "      <td>31.0</td>\n",
       "      <td>3881.0</td>\n",
       "      <td>63.0</td>\n",
       "      <td>854.0</td>\n",
       "      <td>58.0</td>\n",
       "    </tr>\n",
       "  </tbody>\n",
       "</table>\n",
       "</div>"
      ],
      "text/plain": [
       "                age  balance   day  duration  campaign  pdays  previous\n",
       "missing_ratio   0.0      0.0   0.0       0.0       0.0    0.0       0.0\n",
       "min            18.0  -6847.0   1.0       2.0       1.0   -1.0       0.0\n",
       "max            95.0  81204.0  31.0    3881.0      63.0  854.0      58.0"
      ]
     },
     "execution_count": 64,
     "metadata": {},
     "output_type": "execute_result"
    }
   ],
   "source": [
    "numeric_cols = df.select_dtypes(include=['int64'])\n",
    "nume_col_profiles_df = numeric_cols.agg([ lambda co: co.isnull().sum()*100/len(co),\n",
    "                            'min',\n",
    "                            'max'])\n",
    "nume_col_profiles_df.rename(index={'<lambda>':'missing_ratio'},inplace=True)\n",
    "nume_col_profiles_df"
   ]
  },
  {
   "cell_type": "markdown",
   "id": "e53d18d8",
   "metadata": {},
   "source": [
    "- Hãy cùng nhau nhìn phân bổ dữ liệu thông qua biểu đồ trực quan"
   ]
  },
  {
   "cell_type": "code",
   "execution_count": 83,
   "id": "99fa79e6",
   "metadata": {},
   "outputs": [
    {
     "data": {
      "image/png": "[encoded data removed]",
      "text/plain": [
       "<Figure size 1008x720 with 9 Axes>"
      ]
     },
     "metadata": {},
     "output_type": "display_data"
    }
   ],
   "source": [
    "df.hist(bins=20, figsize=(14,10))\n",
    "plt.show()"
   ]
  },
  {
   "cell_type": "markdown",
   "id": "68b3c0ba",
   "metadata": {},
   "source": [
    "### Các cột dữ liệu categorical phân bố như thế nào?"
   ]
  },
  {
   "cell_type": "code",
   "execution_count": 84,
   "id": "e899cb40",
   "metadata": {},
   "outputs": [
    {
     "data": {
      "text/html": [
       "<div>\n",
       "<style scoped>\n",
       "    .dataframe tbody tr th:only-of-type {\n",
       "        vertical-align: middle;\n",
       "    }\n",
       "\n",
       "    .dataframe tbody tr th {\n",
       "        vertical-align: top;\n",
       "    }\n",
       "\n",
       "    .dataframe thead th {\n",
       "        text-align: right;\n",
       "    }\n",
       "</style>\n",
       "<table border=\"1\" class=\"dataframe\">\n",
       "  <thead>\n",
       "    <tr style=\"text-align: right;\">\n",
       "      <th></th>\n",
       "      <th>missing_ratio</th>\n",
       "      <th>num_diff_vals</th>\n",
       "      <th>diff_vals</th>\n",
       "    </tr>\n",
       "  </thead>\n",
       "  <tbody>\n",
       "    <tr>\n",
       "      <th>job</th>\n",
       "      <td>0.627128</td>\n",
       "      <td>11</td>\n",
       "      <td>[admin., technician, services, management, ret...</td>\n",
       "    </tr>\n",
       "    <tr>\n",
       "      <th>marital</th>\n",
       "      <td>0.0</td>\n",
       "      <td>3</td>\n",
       "      <td>[married, single, divorced]</td>\n",
       "    </tr>\n",
       "    <tr>\n",
       "      <th>education</th>\n",
       "      <td>4.452607</td>\n",
       "      <td>3</td>\n",
       "      <td>[secondary, tertiary, primary]</td>\n",
       "    </tr>\n",
       "    <tr>\n",
       "      <th>default</th>\n",
       "      <td>0.0</td>\n",
       "      <td>2</td>\n",
       "      <td>[no, yes]</td>\n",
       "    </tr>\n",
       "    <tr>\n",
       "      <th>housing</th>\n",
       "      <td>0.0</td>\n",
       "      <td>2</td>\n",
       "      <td>[yes, no]</td>\n",
       "    </tr>\n",
       "    <tr>\n",
       "      <th>loan</th>\n",
       "      <td>0.0</td>\n",
       "      <td>2</td>\n",
       "      <td>[no, yes]</td>\n",
       "    </tr>\n",
       "    <tr>\n",
       "      <th>contact</th>\n",
       "      <td>21.017739</td>\n",
       "      <td>2</td>\n",
       "      <td>[cellular, telephone]</td>\n",
       "    </tr>\n",
       "    <tr>\n",
       "      <th>month</th>\n",
       "      <td>0.0</td>\n",
       "      <td>12</td>\n",
       "      <td>[may, jun, jul, aug, oct, nov, dec, jan, feb, ...</td>\n",
       "    </tr>\n",
       "    <tr>\n",
       "      <th>poutcome</th>\n",
       "      <td>74.592367</td>\n",
       "      <td>3</td>\n",
       "      <td>[other, failure, success]</td>\n",
       "    </tr>\n",
       "  </tbody>\n",
       "</table>\n",
       "</div>"
      ],
      "text/plain": [
       "          missing_ratio num_diff_vals  \\\n",
       "job            0.627128            11   \n",
       "marital             0.0             3   \n",
       "education      4.452607             3   \n",
       "default             0.0             2   \n",
       "housing             0.0             2   \n",
       "loan                0.0             2   \n",
       "contact       21.017739             2   \n",
       "month               0.0            12   \n",
       "poutcome      74.592367             3   \n",
       "\n",
       "                                                   diff_vals  \n",
       "job        [admin., technician, services, management, ret...  \n",
       "marital                          [married, single, divorced]  \n",
       "education                     [secondary, tertiary, primary]  \n",
       "default                                            [no, yes]  \n",
       "housing                                            [yes, no]  \n",
       "loan                                               [no, yes]  \n",
       "contact                                [cellular, telephone]  \n",
       "month      [may, jun, jul, aug, oct, nov, dec, jan, feb, ...  \n",
       "poutcome                           [other, failure, success]  "
      ]
     },
     "metadata": {},
     "output_type": "display_data"
    }
   ],
   "source": [
    "cat_columns = ['job', 'marital', 'education', 'default', 'housing', 'loan', 'contact', 'month','poutcome']\n",
    "cate_cols = df[cat_columns]\n",
    "cate_col_profiles_df = cate_cols.agg([ lambda co: co.isnull().sum()*100/len(co),\n",
    "                                        lambda co: len(co.dropna().unique()), \n",
    "                                        lambda co: co.dropna().unique()])\n",
    "cate_col_profiles_df.index =['missing_ratio','num_diff_vals','diff_vals']\n",
    "display(cate_col_profiles_df.T)"
   ]
  },
  {
   "cell_type": "markdown",
   "id": "52bb34c0",
   "metadata": {},
   "source": [
    "- Hãy dùng biểu đồ để trực quan hóa rõ hơn về dữ liệu này"
   ]
  },
  {
   "cell_type": "code",
   "execution_count": 94,
   "id": "3ceeda8f",
   "metadata": {},
   "outputs": [
    {
     "data": {
      "image/png": "[encoded data removed]",
      "text/plain": [
       "<Figure size 1440x1080 with 9 Axes>"
      ]
     },
     "metadata": {},
     "output_type": "display_data"
    }
   ],
   "source": [
    "fig, axs = plt.subplots(3, 3, sharex=False, sharey=False, figsize=(20, 15))\n",
    "fig.tight_layout(pad=8.0)\n",
    "\n",
    "counter = 0\n",
    "for cat_column in cat_columns:\n",
    "    value_counts = df[cat_column].value_counts()\n",
    "    \n",
    "    trace_x = counter // 3\n",
    "    trace_y = counter % 3\n",
    "    x_pos = np.arange(0, len(value_counts))\n",
    "    \n",
    "    axs[trace_x, trace_y].bar(x_pos, value_counts.values, tick_label = value_counts.index)\n",
    "    \n",
    "    axs[trace_x, trace_y].set_title(cat_column,fontsize=20)\n",
    "    \n",
    "    for tick in axs[trace_x, trace_y].get_xticklabels():\n",
    "        tick.set_rotation(60)\n",
    "    \n",
    "    counter += 1\n",
    "\n",
    "plt.show()"
   ]
  },
  {
   "cell_type": "markdown",
   "id": "61306499",
   "metadata": {},
   "source": [
    "---"
   ]
  },
  {
   "cell_type": "code",
   "execution_count": null,
   "id": "f729bb33",
   "metadata": {},
   "outputs": [],
   "source": []
  }
 ],
 "metadata": {
  "kernelspec": {
   "display_name": "Python 3 (ipykernel)",
   "language": "python",
   "name": "python3"
  },
  "language_info": {
   "codemirror_mode": {
    "name": "ipython",
    "version": 3
   },
   "file_extension": ".py",
   "mimetype": "text/x-python",
   "name": "python",
   "nbconvert_exporter": "python",
   "pygments_lexer": "ipython3",
   "version": "3.9.5"
  }
 },
 "nbformat": 4,
 "nbformat_minor": 5
}
