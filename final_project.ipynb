{
 "cells": [
  {
   "cell_type": "markdown",
   "id": "15d885fa",
   "metadata": {},
   "source": [
    "## I. Import các thư viện cần thiết"
   ]
  },
  {
   "cell_type": "code",
   "execution_count": 2,
   "id": "74c38b2a",
   "metadata": {},
   "outputs": [],
   "source": [
    "import numpy as np\n",
    "import pandas as pd\n",
    "import matplotlib.pyplot as plt\n",
    "import seaborn as sns\n",
    "import warnings\n",
    "warnings.filterwarnings('ignore')"
   ]
  },
  {
   "cell_type": "markdown",
   "id": "0b744047",
   "metadata": {},
   "source": [
    "---"
   ]
  },
  {
   "cell_type": "markdown",
   "id": "a520eed9",
   "metadata": {},
   "source": [
    "## II. Thu thập dữ liệu"
   ]
  },
  {
   "cell_type": "markdown",
   "id": "68d2739b",
   "metadata": {},
   "source": [
    "Ta sử dụng tập dữ thu thập sẵn là file \"bank.csv\" đính kèm theo. Đây là dữ liệu về kết quả của chiến dịch maketing từ một ngân hàng, được đưa lên trang kaggle.com và đường dẫn [tại đây](https://www.kaggle.com/janiobachmann/bank-marketing-dataset)"
   ]
  },
  {
   "cell_type": "markdown",
   "id": "8a286027",
   "metadata": {},
   "source": [
    "---"
   ]
  },
  {
   "cell_type": "markdown",
   "id": "8b6c8644",
   "metadata": {},
   "source": [
    "## Đọc dữ liệu"
   ]
  },
  {
   "cell_type": "code",
   "execution_count": 3,
   "id": "542fb8c5",
   "metadata": {},
   "outputs": [],
   "source": [
    "df = pd.read_csv('./bank.csv')"
   ]
  },
  {
   "cell_type": "code",
   "execution_count": 4,
   "id": "e855df05",
   "metadata": {},
   "outputs": [
    {
     "data": {
      "text/html": [
       "<div>\n",
       "<style scoped>\n",
       "    .dataframe tbody tr th:only-of-type {\n",
       "        vertical-align: middle;\n",
       "    }\n",
       "\n",
       "    .dataframe tbody tr th {\n",
       "        vertical-align: top;\n",
       "    }\n",
       "\n",
       "    .dataframe thead th {\n",
       "        text-align: right;\n",
       "    }\n",
       "</style>\n",
       "<table border=\"1\" class=\"dataframe\">\n",
       "  <thead>\n",
       "    <tr style=\"text-align: right;\">\n",
       "      <th></th>\n",
       "      <th>age</th>\n",
       "      <th>job</th>\n",
       "      <th>marital</th>\n",
       "      <th>education</th>\n",
       "      <th>default</th>\n",
       "      <th>balance</th>\n",
       "      <th>housing</th>\n",
       "      <th>loan</th>\n",
       "      <th>contact</th>\n",
       "      <th>day</th>\n",
       "      <th>month</th>\n",
       "      <th>duration</th>\n",
       "      <th>campaign</th>\n",
       "      <th>pdays</th>\n",
       "      <th>previous</th>\n",
       "      <th>poutcome</th>\n",
       "      <th>deposit</th>\n",
       "    </tr>\n",
       "  </thead>\n",
       "  <tbody>\n",
       "    <tr>\n",
       "      <th>0</th>\n",
       "      <td>59</td>\n",
       "      <td>admin.</td>\n",
       "      <td>married</td>\n",
       "      <td>secondary</td>\n",
       "      <td>no</td>\n",
       "      <td>2343</td>\n",
       "      <td>yes</td>\n",
       "      <td>no</td>\n",
       "      <td>unknown</td>\n",
       "      <td>5</td>\n",
       "      <td>may</td>\n",
       "      <td>1042</td>\n",
       "      <td>1</td>\n",
       "      <td>-1</td>\n",
       "      <td>0</td>\n",
       "      <td>unknown</td>\n",
       "      <td>yes</td>\n",
       "    </tr>\n",
       "    <tr>\n",
       "      <th>1</th>\n",
       "      <td>56</td>\n",
       "      <td>admin.</td>\n",
       "      <td>married</td>\n",
       "      <td>secondary</td>\n",
       "      <td>no</td>\n",
       "      <td>45</td>\n",
       "      <td>no</td>\n",
       "      <td>no</td>\n",
       "      <td>unknown</td>\n",
       "      <td>5</td>\n",
       "      <td>may</td>\n",
       "      <td>1467</td>\n",
       "      <td>1</td>\n",
       "      <td>-1</td>\n",
       "      <td>0</td>\n",
       "      <td>unknown</td>\n",
       "      <td>yes</td>\n",
       "    </tr>\n",
       "    <tr>\n",
       "      <th>2</th>\n",
       "      <td>41</td>\n",
       "      <td>technician</td>\n",
       "      <td>married</td>\n",
       "      <td>secondary</td>\n",
       "      <td>no</td>\n",
       "      <td>1270</td>\n",
       "      <td>yes</td>\n",
       "      <td>no</td>\n",
       "      <td>unknown</td>\n",
       "      <td>5</td>\n",
       "      <td>may</td>\n",
       "      <td>1389</td>\n",
       "      <td>1</td>\n",
       "      <td>-1</td>\n",
       "      <td>0</td>\n",
       "      <td>unknown</td>\n",
       "      <td>yes</td>\n",
       "    </tr>\n",
       "    <tr>\n",
       "      <th>3</th>\n",
       "      <td>55</td>\n",
       "      <td>services</td>\n",
       "      <td>married</td>\n",
       "      <td>secondary</td>\n",
       "      <td>no</td>\n",
       "      <td>2476</td>\n",
       "      <td>yes</td>\n",
       "      <td>no</td>\n",
       "      <td>unknown</td>\n",
       "      <td>5</td>\n",
       "      <td>may</td>\n",
       "      <td>579</td>\n",
       "      <td>1</td>\n",
       "      <td>-1</td>\n",
       "      <td>0</td>\n",
       "      <td>unknown</td>\n",
       "      <td>yes</td>\n",
       "    </tr>\n",
       "    <tr>\n",
       "      <th>4</th>\n",
       "      <td>54</td>\n",
       "      <td>admin.</td>\n",
       "      <td>married</td>\n",
       "      <td>tertiary</td>\n",
       "      <td>no</td>\n",
       "      <td>184</td>\n",
       "      <td>no</td>\n",
       "      <td>no</td>\n",
       "      <td>unknown</td>\n",
       "      <td>5</td>\n",
       "      <td>may</td>\n",
       "      <td>673</td>\n",
       "      <td>2</td>\n",
       "      <td>-1</td>\n",
       "      <td>0</td>\n",
       "      <td>unknown</td>\n",
       "      <td>yes</td>\n",
       "    </tr>\n",
       "  </tbody>\n",
       "</table>\n",
       "</div>"
      ],
      "text/plain": [
       "   age         job  marital  education default  balance housing loan  contact  \\\n",
       "0   59      admin.  married  secondary      no     2343     yes   no  unknown   \n",
       "1   56      admin.  married  secondary      no       45      no   no  unknown   \n",
       "2   41  technician  married  secondary      no     1270     yes   no  unknown   \n",
       "3   55    services  married  secondary      no     2476     yes   no  unknown   \n",
       "4   54      admin.  married   tertiary      no      184      no   no  unknown   \n",
       "\n",
       "   day month  duration  campaign  pdays  previous poutcome deposit  \n",
       "0    5   may      1042         1     -1         0  unknown     yes  \n",
       "1    5   may      1467         1     -1         0  unknown     yes  \n",
       "2    5   may      1389         1     -1         0  unknown     yes  \n",
       "3    5   may       579         1     -1         0  unknown     yes  \n",
       "4    5   may       673         2     -1         0  unknown     yes  "
      ]
     },
     "execution_count": 4,
     "metadata": {},
     "output_type": "execute_result"
    }
   ],
   "source": [
    "df.head()"
   ]
  },
  {
   "cell_type": "markdown",
   "id": "0c047f51",
   "metadata": {},
   "source": [
    "---"
   ]
  },
  {
   "cell_type": "markdown",
   "id": "bfd87fc4",
   "metadata": {},
   "source": [
    "## III. Khám phá dữ liệu"
   ]
  },
  {
   "cell_type": "markdown",
   "id": "f192bab9",
   "metadata": {},
   "source": [
    "### Dữ liệu có bao nhiêu dòng, bao nhiêu cột?"
   ]
  },
  {
   "cell_type": "code",
   "execution_count": 5,
   "id": "98d450d0",
   "metadata": {},
   "outputs": [
    {
     "data": {
      "text/plain": [
       "(11162, 17)"
      ]
     },
     "execution_count": 5,
     "metadata": {},
     "output_type": "execute_result"
    }
   ],
   "source": [
    "df.shape"
   ]
  },
  {
   "cell_type": "markdown",
   "id": "bfda7042",
   "metadata": {},
   "source": [
    "- Vậy dữ liệu có kích thước **11162 dòng x 17 cột**\n",
    "- Dữ liệu có liên quan đến các chiến dịch tiếp thị trực tiếp của một tổ chức ngân hàng Bồ Đào Nha. Các chiến dịch tiếp thị dựa trên các cuộc gọi điện thoại. Thông thường, cần có nhiều liên hệ với cùng một khách hàng, để biết xem khách hàng có gửi tiền kỳ hạn ngân hàng hay không."
   ]
  },
  {
   "cell_type": "markdown",
   "id": "1ac07c34",
   "metadata": {},
   "source": [
    "### Dữ liệu có bị lặp không?"
   ]
  },
  {
   "cell_type": "code",
   "execution_count": 6,
   "id": "0b34d0e3",
   "metadata": {},
   "outputs": [
    {
     "data": {
      "text/plain": [
       "0"
      ]
     },
     "execution_count": 6,
     "metadata": {},
     "output_type": "execute_result"
    }
   ],
   "source": [
    "df.duplicated().sum()"
   ]
  },
  {
   "cell_type": "markdown",
   "id": "43f5c729",
   "metadata": {},
   "source": [
    "- Vậy dữ liệu của ta không bị lặp"
   ]
  },
  {
   "cell_type": "markdown",
   "id": "d8183247",
   "metadata": {},
   "source": [
    "### Dữ liệu có bị thiếu không?"
   ]
  },
  {
   "cell_type": "code",
   "execution_count": 7,
   "id": "d967846d",
   "metadata": {},
   "outputs": [
    {
     "data": {
      "text/plain": [
       "age          0\n",
       "job          0\n",
       "marital      0\n",
       "education    0\n",
       "default      0\n",
       "balance      0\n",
       "housing      0\n",
       "loan         0\n",
       "contact      0\n",
       "day          0\n",
       "month        0\n",
       "duration     0\n",
       "campaign     0\n",
       "pdays        0\n",
       "previous     0\n",
       "poutcome     0\n",
       "deposit      0\n",
       "dtype: int64"
      ]
     },
     "execution_count": 7,
     "metadata": {},
     "output_type": "execute_result"
    }
   ],
   "source": [
    "df.isna().sum()"
   ]
  },
  {
   "cell_type": "markdown",
   "id": "4d5e0bb5",
   "metadata": {},
   "source": [
    "- Theo như trên ta thấy dữ liệu không hề bị thiếu, nhưng ở bước đọc dữ liệu ta nhận thấy một vài cột có giá trị `unknown`, vậy có nghĩa là dữ liệu trong file đã thây những giá trị thiếu thành `unknown` vậy ta sẽ làm ngược lại để kiểm tra.\n",
    "- Xử lý dữ liệu `unknown` và kiểm tra lại."
   ]
  },
  {
   "cell_type": "code",
   "execution_count": 8,
   "id": "7693557a",
   "metadata": {},
   "outputs": [
    {
     "data": {
      "text/plain": [
       "age             0\n",
       "job            70\n",
       "marital         0\n",
       "education     497\n",
       "default         0\n",
       "balance         0\n",
       "housing         0\n",
       "loan            0\n",
       "contact      2346\n",
       "day             0\n",
       "month           0\n",
       "duration        0\n",
       "campaign        0\n",
       "pdays           0\n",
       "previous        0\n",
       "poutcome     8326\n",
       "deposit         0\n",
       "dtype: int64"
      ]
     },
     "execution_count": 8,
     "metadata": {},
     "output_type": "execute_result"
    }
   ],
   "source": [
    "df.replace('unknown',np.nan,inplace=True)\n",
    "df.isna().sum()"
   ]
  },
  {
   "cell_type": "markdown",
   "id": "b640ef40",
   "metadata": {},
   "source": [
    "- Hừm có vẻ lần này ta đã phát hiện ra những cột dữ liệu bị thiếu.\n",
    "- Cột dữ liệu bị thiếu là **education**, **contact** và **poutcome**"
   ]
  },
  {
   "cell_type": "markdown",
   "id": "7fc4304d",
   "metadata": {},
   "source": [
    "### Thông tin về các cột dữ liệu như sau"
   ]
  },
  {
   "cell_type": "code",
   "execution_count": 9,
   "id": "749147c8",
   "metadata": {},
   "outputs": [
    {
     "data": {
      "text/plain": [
       "Index(['age', 'job', 'marital', 'education', 'default', 'balance', 'housing',\n",
       "       'loan', 'contact', 'day', 'month', 'duration', 'campaign', 'pdays',\n",
       "       'previous', 'poutcome', 'deposit'],\n",
       "      dtype='object')"
      ]
     },
     "execution_count": 9,
     "metadata": {},
     "output_type": "execute_result"
    }
   ],
   "source": [
    "df.columns"
   ]
  },
  {
   "cell_type": "markdown",
   "id": "bad6a7d9",
   "metadata": {},
   "source": [
    "* **age**: độ tuổi\n",
    "* **job**: loại công việc\n",
    "* **marital**: tình trạng hôn nhân\n",
    "* **education**: trình độ học vấn\n",
    "* **default**: có nợ xấu không\n",
    "* **balance**: số dư cá nhân\n",
    "* **housing**: có khoản nợ vay mua nhà không?\n",
    "* **loan**: có khoản vay cá nhân không\n",
    "* **contact**: cách thức liên lạc\n",
    "* **day**: ngày trong tuần liên lạc gần nhất\n",
    "* **month**: tháng liên lạc gần đây nhất\n",
    "* **duration**: thời lượng liên hệ gần nhất, tính bằng giây\n",
    "* **campaign**: số lượng địa chỉ liên hệ được thực hiện trong chiến dịch này và cho khách hàng này (số, bao gồm cả địa chỉ liên hệ cuối cùng)\n",
    "* **pdays**: số ngày trôi qua sau chiến dịch khi khách hàng liên lạc\n",
    "* **previous**: số lượng địa chỉ liên hệ được thực hiện trước chiến dịch này và cho khách hàng này\n",
    "* **poutcome**: kết quả tiếp thị trước đó với khách hàng này\n",
    "* **deposit**: khách hàng có đăng ký gửi tiền không\n"
   ]
  },
  {
   "cell_type": "markdown",
   "id": "59727612",
   "metadata": {},
   "source": [
    "### Kiểu dữ liệu ở từng cột như thế nào?"
   ]
  },
  {
   "cell_type": "code",
   "execution_count": 10,
   "id": "b6be80e8",
   "metadata": {},
   "outputs": [
    {
     "name": "stdout",
     "output_type": "stream",
     "text": [
      "<class 'pandas.core.frame.DataFrame'>\n",
      "RangeIndex: 11162 entries, 0 to 11161\n",
      "Data columns (total 17 columns):\n",
      " #   Column     Non-Null Count  Dtype \n",
      "---  ------     --------------  ----- \n",
      " 0   age        11162 non-null  int64 \n",
      " 1   job        11092 non-null  object\n",
      " 2   marital    11162 non-null  object\n",
      " 3   education  10665 non-null  object\n",
      " 4   default    11162 non-null  object\n",
      " 5   balance    11162 non-null  int64 \n",
      " 6   housing    11162 non-null  object\n",
      " 7   loan       11162 non-null  object\n",
      " 8   contact    8816 non-null   object\n",
      " 9   day        11162 non-null  int64 \n",
      " 10  month      11162 non-null  object\n",
      " 11  duration   11162 non-null  int64 \n",
      " 12  campaign   11162 non-null  int64 \n",
      " 13  pdays      11162 non-null  int64 \n",
      " 14  previous   11162 non-null  int64 \n",
      " 15  poutcome   2836 non-null   object\n",
      " 16  deposit    11162 non-null  object\n",
      "dtypes: int64(7), object(10)\n",
      "memory usage: 1.4+ MB\n"
     ]
    }
   ],
   "source": [
    "df.info()"
   ]
  },
  {
   "cell_type": "markdown",
   "id": "f6867195",
   "metadata": {},
   "source": [
    "- Dữ liệu đã phù hợp, các cột cần là dữ số cũng đã được đặt đúng"
   ]
  },
  {
   "cell_type": "markdown",
   "id": "015f56d0",
   "metadata": {},
   "source": [
    "### Phân bố của dữ liệu số như thế nào?"
   ]
  },
  {
   "cell_type": "code",
   "execution_count": 11,
   "id": "1cf29faf",
   "metadata": {},
   "outputs": [
    {
     "data": {
      "text/html": [
       "<div>\n",
       "<style scoped>\n",
       "    .dataframe tbody tr th:only-of-type {\n",
       "        vertical-align: middle;\n",
       "    }\n",
       "\n",
       "    .dataframe tbody tr th {\n",
       "        vertical-align: top;\n",
       "    }\n",
       "\n",
       "    .dataframe thead th {\n",
       "        text-align: right;\n",
       "    }\n",
       "</style>\n",
       "<table border=\"1\" class=\"dataframe\">\n",
       "  <thead>\n",
       "    <tr style=\"text-align: right;\">\n",
       "      <th></th>\n",
       "      <th>age</th>\n",
       "      <th>balance</th>\n",
       "      <th>day</th>\n",
       "      <th>duration</th>\n",
       "      <th>campaign</th>\n",
       "      <th>pdays</th>\n",
       "      <th>previous</th>\n",
       "    </tr>\n",
       "  </thead>\n",
       "  <tbody>\n",
       "    <tr>\n",
       "      <th>missing_ratio</th>\n",
       "      <td>0.0</td>\n",
       "      <td>0.0</td>\n",
       "      <td>0.0</td>\n",
       "      <td>0.0</td>\n",
       "      <td>0.0</td>\n",
       "      <td>0.0</td>\n",
       "      <td>0.0</td>\n",
       "    </tr>\n",
       "    <tr>\n",
       "      <th>min</th>\n",
       "      <td>18.0</td>\n",
       "      <td>-6847.0</td>\n",
       "      <td>1.0</td>\n",
       "      <td>2.0</td>\n",
       "      <td>1.0</td>\n",
       "      <td>-1.0</td>\n",
       "      <td>0.0</td>\n",
       "    </tr>\n",
       "    <tr>\n",
       "      <th>max</th>\n",
       "      <td>95.0</td>\n",
       "      <td>81204.0</td>\n",
       "      <td>31.0</td>\n",
       "      <td>3881.0</td>\n",
       "      <td>63.0</td>\n",
       "      <td>854.0</td>\n",
       "      <td>58.0</td>\n",
       "    </tr>\n",
       "  </tbody>\n",
       "</table>\n",
       "</div>"
      ],
      "text/plain": [
       "                age  balance   day  duration  campaign  pdays  previous\n",
       "missing_ratio   0.0      0.0   0.0       0.0       0.0    0.0       0.0\n",
       "min            18.0  -6847.0   1.0       2.0       1.0   -1.0       0.0\n",
       "max            95.0  81204.0  31.0    3881.0      63.0  854.0      58.0"
      ]
     },
     "execution_count": 11,
     "metadata": {},
     "output_type": "execute_result"
    }
   ],
   "source": [
    "numeric_cols = df.select_dtypes(include=['int64'])\n",
    "nume_col_profiles_df = numeric_cols.agg([ lambda co: co.isnull().sum()*100/len(co),\n",
    "                            'min',\n",
    "                            'max'])\n",
    "nume_col_profiles_df.rename(index={'<lambda>':'missing_ratio'},inplace=True)\n",
    "nume_col_profiles_df"
   ]
  },
  {
   "cell_type": "markdown",
   "id": "27096395",
   "metadata": {},
   "source": [
    "- Hãy cùng nhau nhìn phân bổ dữ liệu thông qua biểu đồ trực quan"
   ]
  },
  {
   "cell_type": "code",
   "execution_count": 12,
   "id": "680acb05",
   "metadata": {},
   "outputs": [
    {
     "data": {
      "image/png": "[encoded data removed]",
      "text/plain": [
       "<Figure size 1008x720 with 9 Axes>"
      ]
     },
     "metadata": {
      "needs_background": "light"
     },
     "output_type": "display_data"
    }
   ],
   "source": [
    "df.hist(bins=20, figsize=(14,10))\n",
    "plt.show()"
   ]
  },
  {
   "cell_type": "markdown",
   "id": "28a45b40",
   "metadata": {},
   "source": [
    "### Các cột dữ liệu categorical phân bố như thế nào?"
   ]
  },
  {
   "cell_type": "code",
   "execution_count": 13,
   "id": "8a9dcaf3",
   "metadata": {},
   "outputs": [
    {
     "data": {
      "text/html": [
       "<div>\n",
       "<style scoped>\n",
       "    .dataframe tbody tr th:only-of-type {\n",
       "        vertical-align: middle;\n",
       "    }\n",
       "\n",
       "    .dataframe tbody tr th {\n",
       "        vertical-align: top;\n",
       "    }\n",
       "\n",
       "    .dataframe thead th {\n",
       "        text-align: right;\n",
       "    }\n",
       "</style>\n",
       "<table border=\"1\" class=\"dataframe\">\n",
       "  <thead>\n",
       "    <tr style=\"text-align: right;\">\n",
       "      <th></th>\n",
       "      <th>missing_ratio</th>\n",
       "      <th>num_diff_vals</th>\n",
       "      <th>diff_vals</th>\n",
       "    </tr>\n",
       "  </thead>\n",
       "  <tbody>\n",
       "    <tr>\n",
       "      <th>job</th>\n",
       "      <td>0.627128</td>\n",
       "      <td>11</td>\n",
       "      <td>[admin., technician, services, management, ret...</td>\n",
       "    </tr>\n",
       "    <tr>\n",
       "      <th>marital</th>\n",
       "      <td>0.0</td>\n",
       "      <td>3</td>\n",
       "      <td>[married, single, divorced]</td>\n",
       "    </tr>\n",
       "    <tr>\n",
       "      <th>education</th>\n",
       "      <td>4.452607</td>\n",
       "      <td>3</td>\n",
       "      <td>[secondary, tertiary, primary]</td>\n",
       "    </tr>\n",
       "    <tr>\n",
       "      <th>default</th>\n",
       "      <td>0.0</td>\n",
       "      <td>2</td>\n",
       "      <td>[no, yes]</td>\n",
       "    </tr>\n",
       "    <tr>\n",
       "      <th>housing</th>\n",
       "      <td>0.0</td>\n",
       "      <td>2</td>\n",
       "      <td>[yes, no]</td>\n",
       "    </tr>\n",
       "    <tr>\n",
       "      <th>loan</th>\n",
       "      <td>0.0</td>\n",
       "      <td>2</td>\n",
       "      <td>[no, yes]</td>\n",
       "    </tr>\n",
       "    <tr>\n",
       "      <th>contact</th>\n",
       "      <td>21.017739</td>\n",
       "      <td>2</td>\n",
       "      <td>[cellular, telephone]</td>\n",
       "    </tr>\n",
       "    <tr>\n",
       "      <th>month</th>\n",
       "      <td>0.0</td>\n",
       "      <td>12</td>\n",
       "      <td>[may, jun, jul, aug, oct, nov, dec, jan, feb, ...</td>\n",
       "    </tr>\n",
       "    <tr>\n",
       "      <th>poutcome</th>\n",
       "      <td>74.592367</td>\n",
       "      <td>3</td>\n",
       "      <td>[other, failure, success]</td>\n",
       "    </tr>\n",
       "  </tbody>\n",
       "</table>\n",
       "</div>"
      ],
      "text/plain": [
       "          missing_ratio num_diff_vals  \\\n",
       "job            0.627128            11   \n",
       "marital             0.0             3   \n",
       "education      4.452607             3   \n",
       "default             0.0             2   \n",
       "housing             0.0             2   \n",
       "loan                0.0             2   \n",
       "contact       21.017739             2   \n",
       "month               0.0            12   \n",
       "poutcome      74.592367             3   \n",
       "\n",
       "                                                   diff_vals  \n",
       "job        [admin., technician, services, management, ret...  \n",
       "marital                          [married, single, divorced]  \n",
       "education                     [secondary, tertiary, primary]  \n",
       "default                                            [no, yes]  \n",
       "housing                                            [yes, no]  \n",
       "loan                                               [no, yes]  \n",
       "contact                                [cellular, telephone]  \n",
       "month      [may, jun, jul, aug, oct, nov, dec, jan, feb, ...  \n",
       "poutcome                           [other, failure, success]  "
      ]
     },
     "metadata": {},
     "output_type": "display_data"
    }
   ],
   "source": [
    "cat_columns = ['job', 'marital', 'education', 'default', 'housing', 'loan', 'contact', 'month','poutcome']\n",
    "cate_cols = df[cat_columns]\n",
    "cate_col_profiles_df = cate_cols.agg([ lambda co: co.isnull().sum()*100/len(co),\n",
    "                                        lambda co: len(co.dropna().unique()), \n",
    "                                        lambda co: co.dropna().unique()])\n",
    "cate_col_profiles_df.index =['missing_ratio','num_diff_vals','diff_vals']\n",
    "display(cate_col_profiles_df.T)"
   ]
  },
  {
   "cell_type": "markdown",
   "id": "79083590",
   "metadata": {},
   "source": [
    "- Hãy dùng biểu đồ để trực quan hóa rõ hơn về dữ liệu này"
   ]
  },
  {
   "cell_type": "code",
   "execution_count": 14,
   "id": "af23d296",
   "metadata": {},
   "outputs": [
    {
     "data": {
      "image/png": "[encoded data removed]",
      "text/plain": [
       "<Figure size 1440x1080 with 9 Axes>"
      ]
     },
     "metadata": {
      "needs_background": "light"
     },
     "output_type": "display_data"
    }
   ],
   "source": [
    "fig, axs = plt.subplots(3, 3, sharex=False, sharey=True, figsize=(20, 15))\n",
    "fig.tight_layout(pad=8.0)\n",
    "\n",
    "counter = 0\n",
    "for cat_column in cat_columns:\n",
    "    value_counts = df[cat_column].value_counts()\n",
    "    \n",
    "    trace_x = counter // 3\n",
    "    trace_y = counter % 3\n",
    "    x_pos = np.arange(0, len(value_counts))\n",
    "    \n",
    "    axs[trace_x, trace_y].bar(x_pos, value_counts.values, tick_label = value_counts.index)\n",
    "    \n",
    "    axs[trace_x, trace_y].set_title(cat_column,fontsize=20)\n",
    "    \n",
    "    for tick in axs[trace_x, trace_y].get_xticklabels():\n",
    "        tick.set_rotation(60)\n",
    "    \n",
    "    counter += 1\n",
    "\n",
    "plt.show()"
   ]
  },
  {
   "cell_type": "markdown",
   "id": "ed855ab6",
   "metadata": {},
   "source": [
    "---"
   ]
  },
  {
   "cell_type": "markdown",
   "id": "79dad8be",
   "metadata": {},
   "source": [
    "## IV. Đưa ra câu hỏi\n",
    "Sau khi đã khám phá dữ liệu và hiểu hơn về dữ liệu, ta thấy có một số câu hỏi có thể được trả lời bằng dữ liệu:\n",
    "### 1. Quyết định gửi tiền kỳ hạn phụ thuộc vào yếu tố gì và  như thế nào?\n",
    "   - Để trả lời câu hỏi này, hãy xem xét qua một số yếu tố sau:\n",
    "       - Age\n",
    "       - Job\n",
    "       - Martital\n",
    "       - Education\n",
    "       - Default\n",
    "       - Housing\n",
    "       - Loan"
   ]
  },
  {
   "cell_type": "markdown",
   "id": "7c6da8f8",
   "metadata": {},
   "source": [
    "#### 1.1 Độ tuổi ảnh hưởng đến quyết định gửi tiền kỳ hạn như thế nào?\n",
    "- Ta sẽ xem những người đồng ý gửi kỳ hạn thường tập trung đổ tuổi nào, còn những người không đồng ý gửi kỳ hạn sẽ như thế nào\n",
    "\n",
    "##### Tiến hành xử lý dữ liệu: \n",
    "- Trước tiên ta cần xử lý dữ liệu, chia độ tuổi thành các cụm khác nhau, theo quan sát thì độ tuổi nhỏ nhất là 18 và lớn nhất là 95. Vậy ta sẽ chia thành các cụm *18-30*, *30-60* và *60 trở lên*."
   ]
  },
  {
   "cell_type": "code",
   "execution_count": 123,
   "id": "ded9ec33",
   "metadata": {},
   "outputs": [
    {
     "data": {
      "text/plain": [
       "<AxesSubplot:xlabel='AgeGroup', ylabel='count'>"
      ]
     },
     "execution_count": 123,
     "metadata": {},
     "output_type": "execute_result"
    },
    {
     "data": {
      "image/png": "[encoded data removed]",
      "text/plain": [
       "<Figure size 432x288 with 1 Axes>"
      ]
     },
     "metadata": {
      "needs_background": "light"
     },
     "output_type": "display_data"
    }
   ],
   "source": [
    "age_df = df[['age','deposit']]\n",
    "age_df.loc[(age_df['age'] >= 18) & (age_df['age'] < 30), 'AgeGroup'] = '18-30'\n",
    "age_df.loc[(age_df['age'] >= 30) & (age_df['age'] < 60),'AgeGroup'] = '30-60'\n",
    "age_df.loc[age_df['age'] >= 60, 'AgeGroup'] = '60 and older'\n",
    "\n",
    "\n",
    "sns.countplot( x='AgeGroup',hue='deposit',data=age_df[['deposit','AgeGroup']])"
   ]
  },
  {
   "cell_type": "code",
   "execution_count": 124,
   "id": "9cfd35c0",
   "metadata": {},
   "outputs": [
    {
     "data": {
      "text/plain": [
       "<AxesSubplot:xlabel='age'>"
      ]
     },
     "execution_count": 124,
     "metadata": {},
     "output_type": "execute_result"
    },
    {
     "data": {
      "image/png": "[encoded data removed]",
      "text/plain": [
       "<Figure size 432x288 with 1 Axes>"
      ]
     },
     "metadata": {
      "needs_background": "light"
     },
     "output_type": "display_data"
    },
    {
     "data": {
      "image/png": "[encoded data removed]",
      "text/plain": [
       "<Figure size 432x288 with 1 Axes>"
      ]
     },
     "metadata": {
      "needs_background": "light"
     },
     "output_type": "display_data"
    }
   ],
   "source": [
    "group_deposit_age_df = age_df[['deposit','age']].groupby(['deposit','age']).size().reset_index(name='count')\n",
    "\n",
    "count_df = group_deposit_age_df.pivot_table('count','age','deposit')\n",
    "count_df = count_df[['yes','no']]\n",
    "count_df.replace(np.nan,0,inplace=True)\n",
    "\n",
    "percent_df = pd.DataFrame()\n",
    "percent_df['percent'] = pd.DataFrame(count_df['yes']/(count_df['no']+count_df['yes']))\n",
    "count_df.plot.line()\n",
    "percent_df.plot.line()"
   ]
  },
  {
   "cell_type": "markdown",
   "id": "940e2118",
   "metadata": {},
   "source": [
    "- **Nhận xét:**\n",
    "    - Ta có thể thấy những người từ khoảng độ tuổi từ *nhỏ hơn 30* sẽ có xu hướng gửi kỳ hạn cao.\n",
    "    - Và khi bước sang độ tuổi từ *30-60* đã có sử chuyển biến, tỷ lệ người gửi kỳ hạn đã giảm đi.\n",
    "    - Và cuối cùng lại tăng lên ở độ tuổi *60 trở lên*\n",
    "    - Từ quan sát trên ta có thể thấy chiến dịch marketing thường sẽ hiệu quả với những người trẻ (*nhỏ hơn 30*) hoặc những người lớn tuổi (*lớn hơn 60*), và dường như khi bước sang tuổi 30 người ta thường lưỡng lự khi gửi tiền kỳ hạn, điều này nhận thấy khi tỷ lệ giảm rõ, có thể ở độ tuổi này người ta thường sẽ dùng tiền để đầu tư để làm những việc khác hơn so với để tiền ở yên một chỗ. Vậy ta có thể thấy những đối tượng dễ tiếp cận trong chiến dịch marketing là từ khoảng *18-30* và *lớn hơn 60*."
   ]
  },
  {
   "cell_type": "markdown",
   "id": "9b2b3b92",
   "metadata": {},
   "source": [
    "#### 1.2 Nghề nghiệp ảnh hưởng đến quyết định gửi tiền kỳ hạn như thế nào?"
   ]
  },
  {
   "cell_type": "markdown",
   "id": "62e73be8",
   "metadata": {},
   "source": [
    "- Đầu tiên ta hãy xem phân bổ số người tham gia và số người đồng ý ở từng nghề nghiệp"
   ]
  },
  {
   "cell_type": "code",
   "execution_count": 104,
   "id": "841d68fd",
   "metadata": {},
   "outputs": [
    {
     "data": {
      "text/plain": [
       "<AxesSubplot:xlabel='job', ylabel='count'>"
      ]
     },
     "execution_count": 104,
     "metadata": {},
     "output_type": "execute_result"
    },
    {
     "data": {
      "image/png": "[encoded data removed]",
      "text/plain": [
       "<Figure size 1008x648 with 1 Axes>"
      ]
     },
     "metadata": {
      "needs_background": "light"
     },
     "output_type": "display_data"
    }
   ],
   "source": [
    "job_df = df[['job','deposit']]\n",
    "\n",
    "fig, ax = plt.subplots(figsize=(14,9))\n",
    "sns.countplot(ax=ax, x='job',hue='deposit',data=job_df)"
   ]
  },
  {
   "cell_type": "code",
   "execution_count": 105,
   "id": "2d74aa4a",
   "metadata": {},
   "outputs": [
    {
     "data": {
      "text/plain": [
       "<AxesSubplot:xlabel='Percent', ylabel='Job'>"
      ]
     },
     "execution_count": 105,
     "metadata": {},
     "output_type": "execute_result"
    },
    {
     "data": {
      "image/png": "[encoded data removed]",
      "text/plain": [
       "<Figure size 432x288 with 1 Axes>"
      ]
     },
     "metadata": {
      "needs_background": "light"
     },
     "output_type": "display_data"
    }
   ],
   "source": [
    "job_list = job_df['job'].unique()\n",
    "job_percent_yes = dict()\n",
    "for job in job_list:\n",
    "    n_yes = job_df.loc[(job_df['job'] == job) & (job_df['deposit'] == 'yes')].shape[0]\n",
    "    n = job_df.loc[(job_df['job'] == job)].shape[0]\n",
    "    if n!=0:\n",
    "        job_percent_yes[job] = n_yes/n\n",
    "\n",
    "job_percent_yes = pd.DataFrame(job_percent_yes.items(), columns=['Job','Percent'])\n",
    "sns.barplot(x='Percent',y='Job',data=job_percent_yes)"
   ]
  },
  {
   "cell_type": "markdown",
   "id": "3a9ba3f8",
   "metadata": {},
   "source": [
    "- Từ trên ta thấy được những đối tượng dễ tiếp cận là *Student, retired, unemployed* đều có điểm chung là hiện có khả năng cao là không đi làm và những đối tượng khó tiếp cận thường là *blue-collar, entrepreneur* những nghề nghiệp cần nhiều chi tiêu."
   ]
  },
  {
   "cell_type": "markdown",
   "id": "8c6dc259",
   "metadata": {},
   "source": [
    "#### 1.3 Tình trạng hôn nhân ảnh hưởng đến quyết định gửi tiền kỳ hạn như thế nào?"
   ]
  },
  {
   "cell_type": "code",
   "execution_count": 122,
   "id": "bbf4babd",
   "metadata": {},
   "outputs": [
    {
     "data": {
      "text/plain": [
       "<AxesSubplot:xlabel='marital', ylabel='count'>"
      ]
     },
     "execution_count": 122,
     "metadata": {},
     "output_type": "execute_result"
    },
    {
     "data": {
      "image/png": "[encoded data removed]",
      "text/plain": [
       "<Figure size 432x288 with 1 Axes>"
      ]
     },
     "metadata": {
      "needs_background": "light"
     },
     "output_type": "display_data"
    }
   ],
   "source": [
    "marital_df = df[['marital','deposit']]\n",
    "marital_df.count()\n",
    "sns.countplot(x='marital',hue='deposit',data=marital_df)"
   ]
  },
  {
   "cell_type": "markdown",
   "id": "9c25395e",
   "metadata": {},
   "source": [
    "- Theo quan sát ta thấy, tỷ lệ người đã kết hôn thường sẽ không đồng ý gửi kỳ hạn, tỷ lệ người độc thân thì ngược lại sẽ đồng ý gửi kỳ hạn cao hơn, *50/50* ở những người đã li dị"
   ]
  },
  {
   "cell_type": "markdown",
   "id": "38ade32f",
   "metadata": {},
   "source": [
    "#### 1.4 Mức độ giáo dục ảnh hưởng đến quyết định gửi tiền kỳ hạn như thế nào?"
   ]
  },
  {
   "cell_type": "code",
   "execution_count": 133,
   "id": "d3b22238",
   "metadata": {},
   "outputs": [
    {
     "data": {
      "image/png": "[encoded data removed]",
      "text/plain": [
       "<Figure size 576x432 with 1 Axes>"
      ]
     },
     "metadata": {
      "needs_background": "light"
     },
     "output_type": "display_data"
    }
   ],
   "source": [
    "marital_df = df[['education','deposit']]\n",
    "\n",
    "plt.figure(figsize=(8, 6))\n",
    "g = sns.countplot(x= 'education', hue = 'deposit', data=marital_df)\n",
    "plt.yticks([])\n",
    "for container in g.containers:\n",
    "    g.bar_label(container, padding = 2)\n",
    "plt.show()"
   ]
  },
  {
   "cell_type": "code",
   "execution_count": null,
   "id": "cf8b51da",
   "metadata": {},
   "outputs": [],
   "source": []
  }
 ],
 "metadata": {
  "kernelspec": {
   "display_name": "Python 3 (ipykernel)",
   "language": "python",
   "name": "python3"
  },
  "language_info": {
   "codemirror_mode": {
    "name": "ipython",
    "version": 3
   },
   "file_extension": ".py",
   "mimetype": "text/x-python",
   "name": "python",
   "nbconvert_exporter": "python",
   "pygments_lexer": "ipython3",
   "version": "3.9.5"
  }
 },
 "nbformat": 4,
 "nbformat_minor": 5
}
