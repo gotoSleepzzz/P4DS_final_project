{
 "cells": [
  {
   "cell_type": "markdown",
   "id": "fc274b64",
   "metadata": {},
   "source": [
    "<h1><center> Final Project: Lập trình cho khoa học dữ liệu </center></h1>"
   ]
  },
  {
   "cell_type": "markdown",
   "id": "107701ab",
   "metadata": {},
   "source": [
    "## Link Github của nhóm\n",
    "https://github.com/gotoSleepzzz/P4DS_final_project"
   ]
  },
  {
   "cell_type": "markdown",
   "id": "9f968e54",
   "metadata": {},
   "source": [
    "## Danh sách các thành viên\n",
    "\n",
    "|ID | MSSV     | Họ và tên          |\n",
    "|---|----------|--------------------|\n",
    "|1  | 19127353 | Lê Tấn Đạt         |\n",
    "|2  | 19127564 | Nguyễn Hữu Thông   |"
   ]
  },
  {
   "cell_type": "markdown",
   "id": "c9e8eb65",
   "metadata": {},
   "source": [
    "## Cách chạy project\n",
    "Chọn `Kernel` - `Restart & Run All` để restart và chạy lại toàn bộ project."
   ]
  },
  {
   "cell_type": "markdown",
   "id": "28585709",
   "metadata": {},
   "source": [
    "## Môi trường code\n",
    "\n",
    "- Nhóm em dùng phiên bản các package như trong file \"min_ds-env.yml\" đã cho của thầy.\n",
    "- Check môi trường code:"
   ]
  },
  {
   "cell_type": "code",
   "execution_count": 1,
   "id": "9524453a",
   "metadata": {
    "ExecuteTime": {
     "end_time": "2022-01-15T15:01:34.258335Z",
     "start_time": "2022-01-15T15:01:34.231329Z"
    }
   },
   "outputs": [
    {
     "data": {
      "text/plain": [
       "('E:\\\\anaconda3\\\\envs\\\\min_ds-env\\\\python.exe',\n",
       " '3.8.8 | packaged by conda-forge | (default, Feb 20 2021, 15:50:08) [MSC v.1916 64 bit (AMD64)]')"
      ]
     },
     "execution_count": 1,
     "metadata": {},
     "output_type": "execute_result"
    }
   ],
   "source": [
    "import sys\n",
    "sys.executable, sys.version"
   ]
  },
  {
   "cell_type": "markdown",
   "id": "b17c4694",
   "metadata": {},
   "source": [
    "---"
   ]
  },
  {
   "cell_type": "markdown",
   "id": "a0d77032",
   "metadata": {},
   "source": [
    "## Import"
   ]
  },
  {
   "cell_type": "code",
   "execution_count": 2,
   "id": "7053313b",
   "metadata": {
    "ExecuteTime": {
     "end_time": "2022-01-15T15:01:38.841340Z",
     "start_time": "2022-01-15T15:01:34.263326Z"
    }
   },
   "outputs": [],
   "source": [
    "# eda group\n",
    "import numpy as np\n",
    "import pandas as pd\n",
    "import matplotlib.pyplot as plt\n",
    "import matplotlib.patches as mpatches\n",
    "import seaborn as sns\n",
    "plt.style.use('ggplot')\n",
    "\n",
    "# machine learning group\n",
    "from sklearn.model_selection import train_test_split"
   ]
  },
  {
   "cell_type": "markdown",
   "id": "ed121433",
   "metadata": {},
   "source": [
    "---"
   ]
  },
  {
   "cell_type": "markdown",
   "id": "1365938b",
   "metadata": {},
   "source": [
    "## Thu thập dữ liệu"
   ]
  },
  {
   "cell_type": "markdown",
   "id": "e4bc7d96",
   "metadata": {},
   "source": [
    "### Chủ đề của tập dữ liệu là gì? Nguồn của tập dữ liệu?\n",
    "\n",
    "- Chủ đề của tập dữ liệu là về chiến dịch marketing vận động khách hàng mở tài khoản tiền gửi có kỳ hạn của một tổ chức ngân hàng ở Bồ Đào Nha.\n",
    "- Các chiến dịch tiếp thị dựa trên các cuộc gọi điện thoại đến khách hàng.\n",
    "- Tác giả của tập dữ liệu là `S. Moro, P. Cortez và P. Rita` trong bài viết `A Data-Driven Approach to Predict the Success of Bank Telemarketing. Decision Support Systems` và được đăng tải lên trang web của `UCI Machine Learning Repository`.\n",
    "- Tuy nhiên, tập dữ liệu này được nhóm em lấy về từ trang Kaggle (đăng tải lại): [Link dataset](https://www.kaggle.com/janiobachmann/bank-marketing-dataset)"
   ]
  },
  {
   "cell_type": "markdown",
   "id": "dce8e72d",
   "metadata": {},
   "source": [
    "### Tác giả có cho phép sử dụng hay không?\n",
    "\n",
    "- Bộ dữ liệu này được cung cấp công khai để nghiên cứu và học tập."
   ]
  },
  {
   "cell_type": "markdown",
   "id": "a7d30170",
   "metadata": {},
   "source": [
    "### Tác giả đã thu thập dữ liệu như thế nào?\n",
    "\n",
    "- Dữ liệu có liên quan đến các chiến dịch tiếp thị trực tiếp (gọi điện thoại) của một tổ chức ngân hàng Bồ Đào Nha do đó có thể đây là tập dữ liệu được ngân hàng cung cấp và các tác giả chỉ là người đã công bố tập dữ liệu công khai khi có được sự đồng ý của Ngân hàng."
   ]
  },
  {
   "cell_type": "markdown",
   "id": "c71bc726",
   "metadata": {},
   "source": [
    "---"
   ]
  },
  {
   "cell_type": "markdown",
   "id": "ed805ef9",
   "metadata": {},
   "source": [
    "## Khám phá dữ liệu"
   ]
  },
  {
   "cell_type": "markdown",
   "id": "3fafae2d",
   "metadata": {},
   "source": [
    "### Đọc dữ liệu từ file csv vào dataframe"
   ]
  },
  {
   "cell_type": "code",
   "execution_count": 3,
   "id": "01d6c389",
   "metadata": {
    "ExecuteTime": {
     "end_time": "2022-01-15T15:01:38.982328Z",
     "start_time": "2022-01-15T15:01:38.847328Z"
    }
   },
   "outputs": [
    {
     "data": {
      "text/html": [
       "<div>\n",
       "<style scoped>\n",
       "    .dataframe tbody tr th:only-of-type {\n",
       "        vertical-align: middle;\n",
       "    }\n",
       "\n",
       "    .dataframe tbody tr th {\n",
       "        vertical-align: top;\n",
       "    }\n",
       "\n",
       "    .dataframe thead th {\n",
       "        text-align: right;\n",
       "    }\n",
       "</style>\n",
       "<table border=\"1\" class=\"dataframe\">\n",
       "  <thead>\n",
       "    <tr style=\"text-align: right;\">\n",
       "      <th></th>\n",
       "      <th>age</th>\n",
       "      <th>job</th>\n",
       "      <th>marital</th>\n",
       "      <th>education</th>\n",
       "      <th>default</th>\n",
       "      <th>balance</th>\n",
       "      <th>housing</th>\n",
       "      <th>loan</th>\n",
       "      <th>contact</th>\n",
       "      <th>day</th>\n",
       "      <th>month</th>\n",
       "      <th>duration</th>\n",
       "      <th>campaign</th>\n",
       "      <th>pdays</th>\n",
       "      <th>previous</th>\n",
       "      <th>poutcome</th>\n",
       "      <th>deposit</th>\n",
       "    </tr>\n",
       "  </thead>\n",
       "  <tbody>\n",
       "    <tr>\n",
       "      <th>0</th>\n",
       "      <td>59</td>\n",
       "      <td>admin.</td>\n",
       "      <td>married</td>\n",
       "      <td>secondary</td>\n",
       "      <td>no</td>\n",
       "      <td>2343</td>\n",
       "      <td>yes</td>\n",
       "      <td>no</td>\n",
       "      <td>unknown</td>\n",
       "      <td>5</td>\n",
       "      <td>may</td>\n",
       "      <td>1042</td>\n",
       "      <td>1</td>\n",
       "      <td>-1</td>\n",
       "      <td>0</td>\n",
       "      <td>unknown</td>\n",
       "      <td>yes</td>\n",
       "    </tr>\n",
       "    <tr>\n",
       "      <th>1</th>\n",
       "      <td>56</td>\n",
       "      <td>admin.</td>\n",
       "      <td>married</td>\n",
       "      <td>secondary</td>\n",
       "      <td>no</td>\n",
       "      <td>45</td>\n",
       "      <td>no</td>\n",
       "      <td>no</td>\n",
       "      <td>unknown</td>\n",
       "      <td>5</td>\n",
       "      <td>may</td>\n",
       "      <td>1467</td>\n",
       "      <td>1</td>\n",
       "      <td>-1</td>\n",
       "      <td>0</td>\n",
       "      <td>unknown</td>\n",
       "      <td>yes</td>\n",
       "    </tr>\n",
       "    <tr>\n",
       "      <th>2</th>\n",
       "      <td>41</td>\n",
       "      <td>technician</td>\n",
       "      <td>married</td>\n",
       "      <td>secondary</td>\n",
       "      <td>no</td>\n",
       "      <td>1270</td>\n",
       "      <td>yes</td>\n",
       "      <td>no</td>\n",
       "      <td>unknown</td>\n",
       "      <td>5</td>\n",
       "      <td>may</td>\n",
       "      <td>1389</td>\n",
       "      <td>1</td>\n",
       "      <td>-1</td>\n",
       "      <td>0</td>\n",
       "      <td>unknown</td>\n",
       "      <td>yes</td>\n",
       "    </tr>\n",
       "    <tr>\n",
       "      <th>3</th>\n",
       "      <td>55</td>\n",
       "      <td>services</td>\n",
       "      <td>married</td>\n",
       "      <td>secondary</td>\n",
       "      <td>no</td>\n",
       "      <td>2476</td>\n",
       "      <td>yes</td>\n",
       "      <td>no</td>\n",
       "      <td>unknown</td>\n",
       "      <td>5</td>\n",
       "      <td>may</td>\n",
       "      <td>579</td>\n",
       "      <td>1</td>\n",
       "      <td>-1</td>\n",
       "      <td>0</td>\n",
       "      <td>unknown</td>\n",
       "      <td>yes</td>\n",
       "    </tr>\n",
       "    <tr>\n",
       "      <th>4</th>\n",
       "      <td>54</td>\n",
       "      <td>admin.</td>\n",
       "      <td>married</td>\n",
       "      <td>tertiary</td>\n",
       "      <td>no</td>\n",
       "      <td>184</td>\n",
       "      <td>no</td>\n",
       "      <td>no</td>\n",
       "      <td>unknown</td>\n",
       "      <td>5</td>\n",
       "      <td>may</td>\n",
       "      <td>673</td>\n",
       "      <td>2</td>\n",
       "      <td>-1</td>\n",
       "      <td>0</td>\n",
       "      <td>unknown</td>\n",
       "      <td>yes</td>\n",
       "    </tr>\n",
       "  </tbody>\n",
       "</table>\n",
       "</div>"
      ],
      "text/plain": [
       "   age         job  marital  education default  balance housing loan  contact  \\\n",
       "0   59      admin.  married  secondary      no     2343     yes   no  unknown   \n",
       "1   56      admin.  married  secondary      no       45      no   no  unknown   \n",
       "2   41  technician  married  secondary      no     1270     yes   no  unknown   \n",
       "3   55    services  married  secondary      no     2476     yes   no  unknown   \n",
       "4   54      admin.  married   tertiary      no      184      no   no  unknown   \n",
       "\n",
       "   day month  duration  campaign  pdays  previous poutcome deposit  \n",
       "0    5   may      1042         1     -1         0  unknown     yes  \n",
       "1    5   may      1467         1     -1         0  unknown     yes  \n",
       "2    5   may      1389         1     -1         0  unknown     yes  \n",
       "3    5   may       579         1     -1         0  unknown     yes  \n",
       "4    5   may       673         2     -1         0  unknown     yes  "
      ]
     },
     "execution_count": 3,
     "metadata": {},
     "output_type": "execute_result"
    }
   ],
   "source": [
    "bank_df = pd.read_csv(\"bank.csv\")\n",
    "bank_df.head()"
   ]
  },
  {
   "cell_type": "markdown",
   "id": "86a30b18",
   "metadata": {},
   "source": [
    "### Dữ liệu có bao nhiêu dòng và bao nhiêu cột?"
   ]
  },
  {
   "cell_type": "code",
   "execution_count": 4,
   "id": "03179e3d",
   "metadata": {
    "ExecuteTime": {
     "end_time": "2022-01-15T15:01:39.032347Z",
     "start_time": "2022-01-15T15:01:38.993352Z"
    }
   },
   "outputs": [
    {
     "name": "stdout",
     "output_type": "stream",
     "text": [
      "Tập dữ liệu có 11162 dòng\n",
      "Tập dữ liệu có 17 cột\n"
     ]
    }
   ],
   "source": [
    "num_rows = bank_df.shape[0]\n",
    "num_cols = bank_df.shape[1]\n",
    "\n",
    "print(f\"Tập dữ liệu có {num_rows} dòng\")\n",
    "print(f\"Tập dữ liệu có {num_cols} cột\")"
   ]
  },
  {
   "cell_type": "markdown",
   "id": "a773aaef",
   "metadata": {},
   "source": [
    "### Mỗi dòng có ý nghĩa gì? Có vấn đề các dòng có ý nghĩa khác nhau không?"
   ]
  },
  {
   "cell_type": "markdown",
   "id": "f373f697",
   "metadata": {},
   "source": [
    "- Theo như mô tả của tác giả cũng như quan sát về tập dữ liệu thì mỗi dòng cho biết thông tin của một khách hàng, lần liên lạc cuối cùng đối với khách hàng đó trong chiến dịch và kết quả người đó có đăng ký tiền gửi có kỳ hạn hay không.\n",
    "- Không có dòng nào khác với các dòng còn lại."
   ]
  },
  {
   "cell_type": "markdown",
   "id": "66bdee6f",
   "metadata": {},
   "source": [
    "### Dữ liệu có các dòng bị lặp không?"
   ]
  },
  {
   "cell_type": "code",
   "execution_count": 5,
   "id": "c7171771",
   "metadata": {
    "ExecuteTime": {
     "end_time": "2022-01-15T15:01:39.094330Z",
     "start_time": "2022-01-15T15:01:39.037336Z"
    }
   },
   "outputs": [
    {
     "data": {
      "text/plain": [
       "0"
      ]
     },
     "execution_count": 5,
     "metadata": {},
     "output_type": "execute_result"
    }
   ],
   "source": [
    "bank_df.duplicated().sum()"
   ]
  },
  {
   "cell_type": "markdown",
   "id": "3b4e9a78",
   "metadata": {},
   "source": [
    "Không có các dòng bị lặp trong tập dữ liệu."
   ]
  },
  {
   "cell_type": "markdown",
   "id": "404d7a2c",
   "metadata": {},
   "source": [
    "### Mỗi cột có ý nghĩa gì?"
   ]
  },
  {
   "cell_type": "markdown",
   "id": "80ec9ebc",
   "metadata": {},
   "source": [
    "Mô tả về các cột trong tập dữ liệu `bank.csv` theo `UCI Machine Learning Repository`:\n",
    "- Thông tin khách hàng:\n",
    "    - **age**: độ tuổi (numeric)\n",
    "    - **job**: loại công việc (categorical: 'admin.','blue\\-collar','entrepreneur','housemaid','management','retired','services','student','technician','unemployed', 'self-employed', 'unknown')\n",
    "    - **marital**: tình trạng hôn nhân (categorical: 'divorced','married','single','unknown'; note: 'divorced' means divorced or widowed)\n",
    "    - **education**: trình độ học vấn (categorical: primary, secondary, tertiary and unknown)\n",
    "    - **default**: có nợ xấu không (categorical: 'no','yes','unknown')\n",
    "    - **housing**: có khoản nợ vay mua nhà không? (categorical: 'no','yes','unknown')\n",
    "    - **loan**: có khoản vay cá nhân không (numeric: 'no','yes','unknown')\n",
    "    - **balance**: số dư cá nhân.\n",
    "- Lần liên lạc cuối cùng trong chiến dịch:\n",
    "    - **contact**: cách thức liên lạc (categorical: 'cellular','telephone')\n",
    "    - **month**: tháng liên lạc gần đây nhất (categorical: 'jan', 'feb', 'mar', ..., 'nov', 'dec')\n",
    "    - **day**: ngày liên lạc gần đây của tháng (numeric)\n",
    "    - **duration**: thời lượng liên hệ gần nhất, tính bằng giây (numeric). Important note: this attribute highly affects the output target (e.g., if duration=0 then y='no'). Yet, the duration is not known before a call is performed. Also, after the end of the call y is obviously known. Thus, this input should only be included for benchmark purposes and should be discarded if the intention is to have a realistic predictive model.\n",
    "- Các thông tin còn lại:\n",
    "    - **campaign**: số lượng địa chỉ liên hệ được thực hiện trong chiến dịch này và cho khách hàng này (numeric, bao gồm cả lần liên hệ cuối cùng)\n",
    "    - **pdays**: số ngày trôi qua sau lần cuối cùng liên lạc với khách hàng trong chiến dịch trước (numeric; -1 means client was not previously contacted)\n",
    "    - **previous**: số lượng liên hệ được thực hiện trước chiến dịch này đối với khách hàng này (numeric)\n",
    "    - **poutcome**: kết quả tiếp thị trước đó với khách hàng này (categorical: 'failure','nonexistent','success')\n",
    "    - **deposit**: khách hàng có đăng ký gửi tiền không (binary: 'yes','no')"
   ]
  },
  {
   "cell_type": "markdown",
   "id": "33d30a16",
   "metadata": {},
   "source": [
    "### Dữ liệu có bị thiếu hay không?"
   ]
  },
  {
   "cell_type": "markdown",
   "id": "6dfa1570",
   "metadata": {},
   "source": [
    "Theo flow của một bài HW của thầy thì phần kiểm tra dữ liệu có bị thiếu hay không thường nằm trước phần ý nghĩa của mỗi cột đúng không ạ? Nhưng trong bài này em xin phép hoán đổi thứ tự hai phần này với lí do bởi vì trong phần mô tả ý nghĩa của các cột thì các cột dữ liệu có dạng `categorical` sẽ có các giá trị `unknown` (giá trị thiếu) do đó muốn kiểm tra liệu rằng dữ liệu có bị thiếu hay không thì phải chuyển giá trị `unknown` thành các giá trị `NaN` trước !!!"
   ]
  },
  {
   "cell_type": "code",
   "execution_count": 6,
   "id": "36c08c76",
   "metadata": {
    "ExecuteTime": {
     "end_time": "2022-01-15T15:01:39.172343Z",
     "start_time": "2022-01-15T15:01:39.102341Z"
    }
   },
   "outputs": [
    {
     "data": {
      "text/plain": [
       "age             0\n",
       "job            70\n",
       "marital         0\n",
       "education     497\n",
       "default         0\n",
       "balance         0\n",
       "housing         0\n",
       "loan            0\n",
       "contact      2346\n",
       "day             0\n",
       "month           0\n",
       "duration        0\n",
       "campaign        0\n",
       "pdays           0\n",
       "previous        0\n",
       "poutcome     8326\n",
       "deposit         0\n",
       "dtype: int64"
      ]
     },
     "execution_count": 6,
     "metadata": {},
     "output_type": "execute_result"
    }
   ],
   "source": [
    "bank_df.replace(\"unknown\", np.nan, inplace=True)\n",
    "bank_df.isnull().sum()"
   ]
  },
  {
   "cell_type": "markdown",
   "id": "b6585f7f",
   "metadata": {
    "ExecuteTime": {
     "end_time": "2022-01-11T12:59:19.737513Z",
     "start_time": "2022-01-11T12:59:19.709497Z"
    }
   },
   "source": [
    "Như thầy đã thấy, nếu như em làm bước này trước thì rõ ràng đã bỏ sót 1 lượng lớn các giá trị bị thiếu rồi đúng không ạ :<. Hiện tại có 4 cột dữ liệu bị thiếu là `job`, `education`, `contact` và `poutcome`, em sẽ chưa xử lý chúng ngay bây giờ..."
   ]
  },
  {
   "cell_type": "markdown",
   "id": "f220772c",
   "metadata": {},
   "source": [
    "### Mỗi cột hiện đang có kiểu dữ liệu gì? Có cột nào có kiểu dữ liệu chưa phù hợp để có thể xử lý tiếp không?"
   ]
  },
  {
   "cell_type": "code",
   "execution_count": 7,
   "id": "00f927f5",
   "metadata": {
    "ExecuteTime": {
     "end_time": "2022-01-15T15:01:39.201328Z",
     "start_time": "2022-01-15T15:01:39.178329Z"
    }
   },
   "outputs": [
    {
     "data": {
      "text/plain": [
       "age           int64\n",
       "job          object\n",
       "marital      object\n",
       "education    object\n",
       "default      object\n",
       "balance       int64\n",
       "housing      object\n",
       "loan         object\n",
       "contact      object\n",
       "day           int64\n",
       "month        object\n",
       "duration      int64\n",
       "campaign      int64\n",
       "pdays         int64\n",
       "previous      int64\n",
       "poutcome     object\n",
       "deposit      object\n",
       "dtype: object"
      ]
     },
     "execution_count": 7,
     "metadata": {},
     "output_type": "execute_result"
    }
   ],
   "source": [
    "col_dtypes = bank_df.dtypes\n",
    "col_dtypes"
   ]
  },
  {
   "cell_type": "markdown",
   "id": "136f92d4",
   "metadata": {},
   "source": [
    "Có thể thấy đa phần các cột đều có kiểu dữ liệu phù hợp rồi tuy nhiên đối với cột `month` thay vì có kiểu `object` (jan, feb, mar, ...) như hiện tại thì nó nên mang kiểu dữ liệu là `int` (1, 2, 3, ...) hơn để thuận tiện cho việc so sánh, sắp xếp và trực quan hoá dữ liệu hơn! "
   ]
  },
  {
   "cell_type": "markdown",
   "id": "6745d0e0",
   "metadata": {},
   "source": [
    "### Tiền xử lý cột `month`"
   ]
  },
  {
   "cell_type": "markdown",
   "id": "aa1cbaef",
   "metadata": {},
   "source": [
    "Chuyển cột `month` về dạng datetime bằng hàm to_datetime của pandas sau đó lấy ra phần tử `month` bằng `dt.month` để thu được các giá trị được convert về dạng số: jan->1, feb->2, mar->3,..."
   ]
  },
  {
   "cell_type": "code",
   "execution_count": 8,
   "id": "90b93ebf",
   "metadata": {
    "ExecuteTime": {
     "end_time": "2022-01-15T15:01:39.248334Z",
     "start_time": "2022-01-15T15:01:39.209329Z"
    }
   },
   "outputs": [
    {
     "data": {
      "text/plain": [
       "array([ 5,  6,  7,  8, 10, 11, 12,  1,  2,  3,  4,  9], dtype=int64)"
      ]
     },
     "execution_count": 8,
     "metadata": {},
     "output_type": "execute_result"
    }
   ],
   "source": [
    "bank_df['month'] = pd.to_datetime(bank_df['month'], format='%b').dt.month\n",
    "bank_df['month'].unique()"
   ]
  },
  {
   "cell_type": "markdown",
   "id": "f805bb5a",
   "metadata": {
    "ExecuteTime": {
     "end_time": "2022-01-12T17:56:59.811863Z",
     "start_time": "2022-01-12T17:56:59.801847Z"
    }
   },
   "source": [
    "Cột `month` đã được đưa về dạng số nguyên `int` và các giá trị chuỗi đã được thay thế bằng số nguyên tương ứng."
   ]
  },
  {
   "cell_type": "markdown",
   "id": "571ea484",
   "metadata": {},
   "source": [
    "### Với mỗi cột có kiểu dữ liệu dạng numeric, các giá trị được phân bố như thế nào?"
   ]
  },
  {
   "cell_type": "markdown",
   "id": "a994b6f9",
   "metadata": {},
   "source": [
    "- Như đã nói ở trên, tập dữ liệu không có cột nào bị thiếu dữ liệu do đó ở đây, em chỉ xét đến min và max của các cột này.\n",
    "- Các cột có dạng numeric bao gồm: \"age\", \"balance\", \"day\", \"duration\", \"campaign\", \"pdays\", \"previous\"."
   ]
  },
  {
   "cell_type": "code",
   "execution_count": 9,
   "id": "d9ae750a",
   "metadata": {
    "ExecuteTime": {
     "end_time": "2022-01-15T15:01:39.358365Z",
     "start_time": "2022-01-15T15:01:39.257333Z"
    }
   },
   "outputs": [
    {
     "data": {
      "text/html": [
       "<div>\n",
       "<style scoped>\n",
       "    .dataframe tbody tr th:only-of-type {\n",
       "        vertical-align: middle;\n",
       "    }\n",
       "\n",
       "    .dataframe tbody tr th {\n",
       "        vertical-align: top;\n",
       "    }\n",
       "\n",
       "    .dataframe thead th {\n",
       "        text-align: right;\n",
       "    }\n",
       "</style>\n",
       "<table border=\"1\" class=\"dataframe\">\n",
       "  <thead>\n",
       "    <tr style=\"text-align: right;\">\n",
       "      <th></th>\n",
       "      <th>age</th>\n",
       "      <th>balance</th>\n",
       "      <th>day</th>\n",
       "      <th>duration</th>\n",
       "      <th>campaign</th>\n",
       "      <th>pdays</th>\n",
       "      <th>previous</th>\n",
       "    </tr>\n",
       "  </thead>\n",
       "  <tbody>\n",
       "    <tr>\n",
       "      <th>missing_ratio</th>\n",
       "      <td>0.0</td>\n",
       "      <td>0.0</td>\n",
       "      <td>0.0</td>\n",
       "      <td>0.0</td>\n",
       "      <td>0.0</td>\n",
       "      <td>0.0</td>\n",
       "      <td>0.0</td>\n",
       "    </tr>\n",
       "    <tr>\n",
       "      <th>min</th>\n",
       "      <td>18.0</td>\n",
       "      <td>-6847.0</td>\n",
       "      <td>1.0</td>\n",
       "      <td>2.0</td>\n",
       "      <td>1.0</td>\n",
       "      <td>-1.0</td>\n",
       "      <td>0.0</td>\n",
       "    </tr>\n",
       "    <tr>\n",
       "      <th>max</th>\n",
       "      <td>95.0</td>\n",
       "      <td>81204.0</td>\n",
       "      <td>31.0</td>\n",
       "      <td>3881.0</td>\n",
       "      <td>63.0</td>\n",
       "      <td>854.0</td>\n",
       "      <td>58.0</td>\n",
       "    </tr>\n",
       "  </tbody>\n",
       "</table>\n",
       "</div>"
      ],
      "text/plain": [
       "                age  balance   day  duration  campaign  pdays  previous\n",
       "missing_ratio   0.0      0.0   0.0       0.0       0.0    0.0       0.0\n",
       "min            18.0  -6847.0   1.0       2.0       1.0   -1.0       0.0\n",
       "max            95.0  81204.0  31.0    3881.0      63.0  854.0      58.0"
      ]
     },
     "execution_count": 9,
     "metadata": {},
     "output_type": "execute_result"
    }
   ],
   "source": [
    "num_cols = [\"age\", \"balance\", \"day\", \"duration\", \"campaign\", \"pdays\", \"previous\"]\n",
    "numeric_cols = bank_df[num_cols]\n",
    "miss = numeric_cols.isna().mean() * 100\n",
    "min_val = numeric_cols.min()\n",
    "max_val = numeric_cols.max()\n",
    "nume_col_profiles_df = pd.DataFrame([miss, min_val,max_val], \n",
    "                                    columns = num_cols,\n",
    "                                    index = [\"missing_ratio\", \"min\", \"max\"])\n",
    "nume_col_profiles_df"
   ]
  },
  {
   "cell_type": "markdown",
   "id": "3d9ce4dd",
   "metadata": {},
   "source": [
    "- Khoan khoan, hình như là có khá nhiều điểm bất thường trong các giá trị min/max của các cột numeric:\n",
    "    - Ở cột `age`, người khách hàng lớn tuổi nhất được marketing về dịch vụ tiền gửi có kỳ hạn là 95 ^^, giả sử họ đồng ý đăng ký gửi tiền có kỳ hạn, liệu họ có còn sống đến lúc nhận lại được số tiền hay không ?\n",
    "    - Ở cột `balance`, ngân hàng thậm chí marketing với cả những khách hàng hiện có số tiền trong tài khoản ở mức âm, có lẽ ở những trường hợp này thì tỉ lệ thất bại khá cao :<\n",
    "    - Ở cột `duration`, giá trị `min = 2` có nghĩa là người tư vấn còn chưa kịp giới thiệu bản thân thì đã bị cúp máy rồi, khá giống với các trường hợp telesale ở Việt Nam !\n",
    "    - Ở cột `campaign` và `previous`, có khách hàng thậm chí được liên lạc đến `63` và `58` lần trong 1 chiến dịch, đây là những khách hàng tiềm năng chăng ?"
   ]
  },
  {
   "cell_type": "markdown",
   "id": "d389b6a1",
   "metadata": {
    "ExecuteTime": {
     "end_time": "2022-01-13T13:26:14.281929Z",
     "start_time": "2022-01-13T13:26:14.268857Z"
    }
   },
   "source": [
    "- Hãy cùng nhau nhìn phân bổ dữ liệu thông qua biểu đồ trực quan"
   ]
  },
  {
   "cell_type": "code",
   "execution_count": 10,
   "id": "5efc148e",
   "metadata": {
    "ExecuteTime": {
     "end_time": "2022-01-15T15:01:42.017326Z",
     "start_time": "2022-01-15T15:01:39.363331Z"
    }
   },
   "outputs": [
    {
     "data": {
      "image/png": "[encoded data removed]",
      "text/plain": [
       "<Figure size 1008x720 with 9 Axes>"
      ]
     },
     "metadata": {},
     "output_type": "display_data"
    }
   ],
   "source": [
    "numeric_cols.hist(bins=20, figsize=(14,10))\n",
    "plt.show()"
   ]
  },
  {
   "cell_type": "markdown",
   "id": "032d2986",
   "metadata": {},
   "source": [
    "### Với mỗi cột có kiểu dữ liệu dạng categorical, các giá trị được phân bố như thế nào?"
   ]
  },
  {
   "cell_type": "markdown",
   "id": "f71c8819",
   "metadata": {},
   "source": [
    "- Tập dữ liệu có các cột categorical là \"job\", \"marital\", \"education\", \"default\", \"housing\", \"loan\", \"contact\", \"month\", \"poutcome\" và \"deposit\"\n",
    "- Với mỗi cột categorical, bởi vì đã nói ở trên là không có cột nào bị thiếu dữ liệu do đó em sẽ đếm số lượng giá trị khác nhau (không xét giá trị thiếu), list/array các giá trị khác nhau (không xét giá trị thiếu).\n",
    "- Kết quả em sẽ lưu vào dataframe `cate_col_distribution`."
   ]
  },
  {
   "cell_type": "code",
   "execution_count": 11,
   "id": "79a813dd",
   "metadata": {
    "ExecuteTime": {
     "end_time": "2022-01-15T15:01:42.172338Z",
     "start_time": "2022-01-15T15:01:42.022329Z"
    }
   },
   "outputs": [
    {
     "data": {
      "text/html": [
       "<div>\n",
       "<style scoped>\n",
       "    .dataframe tbody tr th:only-of-type {\n",
       "        vertical-align: middle;\n",
       "    }\n",
       "\n",
       "    .dataframe tbody tr th {\n",
       "        vertical-align: top;\n",
       "    }\n",
       "\n",
       "    .dataframe thead th {\n",
       "        text-align: right;\n",
       "    }\n",
       "</style>\n",
       "<table border=\"1\" class=\"dataframe\">\n",
       "  <thead>\n",
       "    <tr style=\"text-align: right;\">\n",
       "      <th></th>\n",
       "      <th>missing ratio</th>\n",
       "      <th>num_diff_vals</th>\n",
       "      <th>diff_vals</th>\n",
       "    </tr>\n",
       "  </thead>\n",
       "  <tbody>\n",
       "    <tr>\n",
       "      <th>job</th>\n",
       "      <td>0.627128</td>\n",
       "      <td>11</td>\n",
       "      <td>[admin., technician, services, management, ret...</td>\n",
       "    </tr>\n",
       "    <tr>\n",
       "      <th>marital</th>\n",
       "      <td>0.0</td>\n",
       "      <td>3</td>\n",
       "      <td>[married, single, divorced]</td>\n",
       "    </tr>\n",
       "    <tr>\n",
       "      <th>education</th>\n",
       "      <td>4.452607</td>\n",
       "      <td>3</td>\n",
       "      <td>[secondary, tertiary, primary]</td>\n",
       "    </tr>\n",
       "    <tr>\n",
       "      <th>default</th>\n",
       "      <td>0.0</td>\n",
       "      <td>2</td>\n",
       "      <td>[no, yes]</td>\n",
       "    </tr>\n",
       "    <tr>\n",
       "      <th>housing</th>\n",
       "      <td>0.0</td>\n",
       "      <td>2</td>\n",
       "      <td>[yes, no]</td>\n",
       "    </tr>\n",
       "    <tr>\n",
       "      <th>loan</th>\n",
       "      <td>0.0</td>\n",
       "      <td>2</td>\n",
       "      <td>[no, yes]</td>\n",
       "    </tr>\n",
       "    <tr>\n",
       "      <th>contact</th>\n",
       "      <td>21.017739</td>\n",
       "      <td>2</td>\n",
       "      <td>[cellular, telephone]</td>\n",
       "    </tr>\n",
       "    <tr>\n",
       "      <th>poutcome</th>\n",
       "      <td>74.592367</td>\n",
       "      <td>3</td>\n",
       "      <td>[other, failure, success]</td>\n",
       "    </tr>\n",
       "    <tr>\n",
       "      <th>deposit</th>\n",
       "      <td>0.0</td>\n",
       "      <td>2</td>\n",
       "      <td>[yes, no]</td>\n",
       "    </tr>\n",
       "  </tbody>\n",
       "</table>\n",
       "</div>"
      ],
      "text/plain": [
       "          missing ratio num_diff_vals  \\\n",
       "job            0.627128            11   \n",
       "marital             0.0             3   \n",
       "education      4.452607             3   \n",
       "default             0.0             2   \n",
       "housing             0.0             2   \n",
       "loan                0.0             2   \n",
       "contact       21.017739             2   \n",
       "poutcome      74.592367             3   \n",
       "deposit             0.0             2   \n",
       "\n",
       "                                                   diff_vals  \n",
       "job        [admin., technician, services, management, ret...  \n",
       "marital                          [married, single, divorced]  \n",
       "education                     [secondary, tertiary, primary]  \n",
       "default                                            [no, yes]  \n",
       "housing                                            [yes, no]  \n",
       "loan                                               [no, yes]  \n",
       "contact                                [cellular, telephone]  \n",
       "poutcome                           [other, failure, success]  \n",
       "deposit                                            [yes, no]  "
      ]
     },
     "execution_count": 11,
     "metadata": {},
     "output_type": "execute_result"
    }
   ],
   "source": [
    "cate_cols = [\"job\", \"marital\", \"education\", \"default\", \"housing\", \n",
    "             \"loan\", \"contact\", \"poutcome\", \"deposit\"]\n",
    "categorical_cols = bank_df[cate_cols]\n",
    "\n",
    "miss = categorical_cols.isna().mean() * 100\n",
    "num_diff = categorical_cols.nunique()\n",
    "diff = categorical_cols.apply(lambda x: x.dropna().unique())\n",
    "\n",
    "cate_col_profiles_df = pd.DataFrame([miss, num_diff, diff], \n",
    "                                    columns = cate_cols,\n",
    "                                    index = [\"missing ratio\", \"num_diff_vals\", \"diff_vals\"])\n",
    "cate_col_profiles_df.T"
   ]
  },
  {
   "cell_type": "markdown",
   "id": "6eff9e68",
   "metadata": {},
   "source": [
    "- Hãy dùng biểu đồ để trực quan hóa rõ hơn về dữ liệu này"
   ]
  },
  {
   "cell_type": "code",
   "execution_count": 12,
   "id": "42ed32fc",
   "metadata": {
    "ExecuteTime": {
     "end_time": "2022-01-15T15:01:43.704327Z",
     "start_time": "2022-01-15T15:01:42.181327Z"
    }
   },
   "outputs": [
    {
     "data": {
      "image/png": "[encoded data removed]",
      "text/plain": [
       "<Figure size 1440x1080 with 9 Axes>"
      ]
     },
     "metadata": {},
     "output_type": "display_data"
    }
   ],
   "source": [
    "fig, axs = plt.subplots(3, 3, sharex=False, sharey=True, figsize=(20, 15))\n",
    "fig.tight_layout(pad=8.0)\n",
    "\n",
    "counter = 0\n",
    "for cat_column in cate_cols:\n",
    "    value_counts = bank_df[cat_column].value_counts()\n",
    "    \n",
    "    trace_x = counter // 3\n",
    "    trace_y = counter % 3\n",
    "    x_pos = np.arange(0, len(value_counts))\n",
    "    \n",
    "    axs[trace_x, trace_y].bar(x_pos, value_counts.values, tick_label = value_counts.index)\n",
    "    \n",
    "    axs[trace_x, trace_y].set_title(cat_column,fontsize=20)\n",
    "    \n",
    "    for tick in axs[trace_x, trace_y].get_xticklabels():\n",
    "        tick.set_rotation(60)\n",
    "    \n",
    "    counter += 1\n",
    "\n",
    "plt.show()"
   ]
  },
  {
   "cell_type": "markdown",
   "id": "2cde8552",
   "metadata": {
    "ExecuteTime": {
     "end_time": "2022-01-11T11:39:50.592142Z",
     "start_time": "2022-01-11T11:39:50.554580Z"
    }
   },
   "source": [
    "### Làm rõ hơn ý nghĩa cột `poutcome`"
   ]
  },
  {
   "cell_type": "markdown",
   "id": "e2b1ed0c",
   "metadata": {},
   "source": [
    "- Theo như mô tả trên `UCI Machine Learning Repository` thì cột `poutcome` chỉ có 3 giá trị là `failure`, `nonexistent`, `success` tuy nhiên khi kiểm tra lại về `num_diff_vals` của nó thì lại có giá trị `other`.\n",
    "- Chọn ra các dòng có giá trị `poutcome` là `other` để kiểm tra"
   ]
  },
  {
   "cell_type": "code",
   "execution_count": 13,
   "id": "22a06bc1",
   "metadata": {
    "ExecuteTime": {
     "end_time": "2022-01-15T15:01:43.758343Z",
     "start_time": "2022-01-15T15:01:43.718330Z"
    }
   },
   "outputs": [
    {
     "data": {
      "text/html": [
       "<div>\n",
       "<style scoped>\n",
       "    .dataframe tbody tr th:only-of-type {\n",
       "        vertical-align: middle;\n",
       "    }\n",
       "\n",
       "    .dataframe tbody tr th {\n",
       "        vertical-align: top;\n",
       "    }\n",
       "\n",
       "    .dataframe thead th {\n",
       "        text-align: right;\n",
       "    }\n",
       "</style>\n",
       "<table border=\"1\" class=\"dataframe\">\n",
       "  <thead>\n",
       "    <tr style=\"text-align: right;\">\n",
       "      <th></th>\n",
       "      <th>age</th>\n",
       "      <th>job</th>\n",
       "      <th>marital</th>\n",
       "      <th>education</th>\n",
       "      <th>default</th>\n",
       "      <th>balance</th>\n",
       "      <th>housing</th>\n",
       "      <th>loan</th>\n",
       "      <th>contact</th>\n",
       "      <th>day</th>\n",
       "      <th>month</th>\n",
       "      <th>duration</th>\n",
       "      <th>campaign</th>\n",
       "      <th>pdays</th>\n",
       "      <th>previous</th>\n",
       "      <th>poutcome</th>\n",
       "      <th>deposit</th>\n",
       "    </tr>\n",
       "  </thead>\n",
       "  <tbody>\n",
       "    <tr>\n",
       "      <th>890</th>\n",
       "      <td>42</td>\n",
       "      <td>admin.</td>\n",
       "      <td>single</td>\n",
       "      <td>secondary</td>\n",
       "      <td>no</td>\n",
       "      <td>-247</td>\n",
       "      <td>yes</td>\n",
       "      <td>yes</td>\n",
       "      <td>telephone</td>\n",
       "      <td>21</td>\n",
       "      <td>10</td>\n",
       "      <td>519</td>\n",
       "      <td>1</td>\n",
       "      <td>166</td>\n",
       "      <td>1</td>\n",
       "      <td>other</td>\n",
       "      <td>yes</td>\n",
       "    </tr>\n",
       "    <tr>\n",
       "      <th>961</th>\n",
       "      <td>34</td>\n",
       "      <td>management</td>\n",
       "      <td>single</td>\n",
       "      <td>tertiary</td>\n",
       "      <td>no</td>\n",
       "      <td>1494</td>\n",
       "      <td>yes</td>\n",
       "      <td>no</td>\n",
       "      <td>cellular</td>\n",
       "      <td>18</td>\n",
       "      <td>11</td>\n",
       "      <td>596</td>\n",
       "      <td>1</td>\n",
       "      <td>182</td>\n",
       "      <td>1</td>\n",
       "      <td>other</td>\n",
       "      <td>yes</td>\n",
       "    </tr>\n",
       "    <tr>\n",
       "      <th>968</th>\n",
       "      <td>46</td>\n",
       "      <td>management</td>\n",
       "      <td>married</td>\n",
       "      <td>tertiary</td>\n",
       "      <td>no</td>\n",
       "      <td>0</td>\n",
       "      <td>no</td>\n",
       "      <td>no</td>\n",
       "      <td>cellular</td>\n",
       "      <td>18</td>\n",
       "      <td>11</td>\n",
       "      <td>716</td>\n",
       "      <td>2</td>\n",
       "      <td>110</td>\n",
       "      <td>3</td>\n",
       "      <td>other</td>\n",
       "      <td>yes</td>\n",
       "    </tr>\n",
       "    <tr>\n",
       "      <th>977</th>\n",
       "      <td>43</td>\n",
       "      <td>management</td>\n",
       "      <td>married</td>\n",
       "      <td>tertiary</td>\n",
       "      <td>no</td>\n",
       "      <td>1429</td>\n",
       "      <td>yes</td>\n",
       "      <td>no</td>\n",
       "      <td>cellular</td>\n",
       "      <td>19</td>\n",
       "      <td>11</td>\n",
       "      <td>1015</td>\n",
       "      <td>1</td>\n",
       "      <td>198</td>\n",
       "      <td>2</td>\n",
       "      <td>other</td>\n",
       "      <td>yes</td>\n",
       "    </tr>\n",
       "    <tr>\n",
       "      <th>982</th>\n",
       "      <td>33</td>\n",
       "      <td>technician</td>\n",
       "      <td>single</td>\n",
       "      <td>tertiary</td>\n",
       "      <td>no</td>\n",
       "      <td>149</td>\n",
       "      <td>yes</td>\n",
       "      <td>no</td>\n",
       "      <td>cellular</td>\n",
       "      <td>19</td>\n",
       "      <td>11</td>\n",
       "      <td>424</td>\n",
       "      <td>2</td>\n",
       "      <td>182</td>\n",
       "      <td>1</td>\n",
       "      <td>other</td>\n",
       "      <td>yes</td>\n",
       "    </tr>\n",
       "  </tbody>\n",
       "</table>\n",
       "</div>"
      ],
      "text/plain": [
       "     age         job  marital  education default  balance housing loan  \\\n",
       "890   42      admin.   single  secondary      no     -247     yes  yes   \n",
       "961   34  management   single   tertiary      no     1494     yes   no   \n",
       "968   46  management  married   tertiary      no        0      no   no   \n",
       "977   43  management  married   tertiary      no     1429     yes   no   \n",
       "982   33  technician   single   tertiary      no      149     yes   no   \n",
       "\n",
       "       contact  day  month  duration  campaign  pdays  previous poutcome  \\\n",
       "890  telephone   21     10       519         1    166         1    other   \n",
       "961   cellular   18     11       596         1    182         1    other   \n",
       "968   cellular   18     11       716         2    110         3    other   \n",
       "977   cellular   19     11      1015         1    198         2    other   \n",
       "982   cellular   19     11       424         2    182         1    other   \n",
       "\n",
       "    deposit  \n",
       "890     yes  \n",
       "961     yes  \n",
       "968     yes  \n",
       "977     yes  \n",
       "982     yes  "
      ]
     },
     "execution_count": 13,
     "metadata": {},
     "output_type": "execute_result"
    }
   ],
   "source": [
    "bank_df[bank_df[\"poutcome\"] == \"other\"].head()"
   ]
  },
  {
   "cell_type": "markdown",
   "id": "0c908e75",
   "metadata": {},
   "source": [
    "- Có thể thấy rằng những dòng có giá trị `poutcome` là `other` đều là những khách hàng cũ đã từng được liên lạc trong các chiến dịch marketing trước nhưng có kết quả `poutcome` không rõ ràng.\n",
    "- `other` ở đây có thể hiểu là 1 khái niệm khá rộng, có thể giải thích theo các hướng như sau: \n",
    "    - Đây là những khách hàng đã được tư vấn nhưng họ chưa thể đưa ra quyết định cuối cùng, họ đang lưỡng lự và chưa đưa ra được quyết định cuối cùng.\n",
    "    - Những khách hàng này có thể là đã chấp nhận mở tài khoản trong các chiến dịch trước rồi nhưng trong khoảng thời gian `pdays` thì họ lại thay đổi quyết định và chưa xác nhận (hay còn gọi là quay xe ^^).\n",
    "- Với các cách giải thích trên, `other` vẫn đóng vai trò là 1 giá trị hữu ích, có thể giúp chúng ta phân tích sâu hơn và trả lời những câu hỏi liên quan."
   ]
  },
  {
   "cell_type": "markdown",
   "id": "a60f56d0",
   "metadata": {},
   "source": [
    "---"
   ]
  },
  {
   "cell_type": "markdown",
   "id": "3b9c4658",
   "metadata": {},
   "source": [
    "## Đưa ra các câu hỏi cần trả lời"
   ]
  },
  {
   "cell_type": "markdown",
   "id": "b8bad2a6",
   "metadata": {},
   "source": [
    "Sau khi đã khám phá dữ liệu, nhóm em nhận thấy có một số câu hỏi có thể được trả lời bằng dữ liệu như sau:\n",
    "- **Câu hỏi 1**: Quyết định gửi tiền kỳ hạn phụ thuộc vào yếu tố gì và phụ thuộc như thế nào?\n",
    "    - **Ý Nghĩa**: Để giúp ngân hàng chọn lọc ra những cụm khách hàng nên tập trung tư vấn để đạt kết quả cao nhất cho các chiến dịch kế tiếp.\n",
    "- **Câu hỏi 2**: Số cuộc liên lạc của khách hàng theo từng tháng là bao nhiêu? Tháng nào có tỉ lệ thành công cao nhất?\n",
    "    - **Ý Nghĩa**: Thời điểm liên lạc cho khách hàng đóng vai trò khá quan trọng đến việc liệu rằng họ có chấp nhận mở tài khoản tiền gửi có kỳ hạn hay không. Nắm bắt được thời điểm này sẽ giúp ngân hàng tiết kiệm thời gian hơn trong việc liên lạc với khách hàng trong tương lai.\n",
    "- **Câu hỏi 3**: Tỉ lệ những khách hàng có giá trị `poutcome` là `failure` hoặc `other` mà đồng ý mở tài khoản tiền gửi có kỳ hạn\n",
    "    - **Ý Nghĩa**: Tập khách hàng này là những khách hàng đã ngân hàng liên lạc trong 1 chiến dịch trước đó nhưng không đồng ý tham gia hoặc còn đang phân vân có nên tham gia hay không, nếu tỉ lệ những khách hàng này đồng ý tham gia với chiến dịch tiền gửi có kỳ hạn lần này (khách hàng có sự thay đổi trong suy nghĩ) ở mức cao thì ngân hàng có thể biết được rằng chất lượng của chiến dịch đã phần nào được cải thiện và đẩy mạnh chiến dịch của mình hơn nữa."
   ]
  },
  {
   "cell_type": "markdown",
   "id": "bfef7284",
   "metadata": {},
   "source": [
    "### Câu hỏi 1: Quyết định gửi tiền kỳ hạn phụ thuộc vào yếu tố gì và phụ thuộc như thế nào?"
   ]
  },
  {
   "cell_type": "markdown",
   "id": "33802df9",
   "metadata": {},
   "source": [
    "- Để trả lời câu hỏi này, em chọn xem xét một số thuộc tính quan trọng như sau:\n",
    "    - Age\n",
    "    - Job\n",
    "    - Martital\n",
    "    - Education\n",
    "    - Default\n",
    "    - Housing\n",
    "    - Loan"
   ]
  },
  {
   "cell_type": "markdown",
   "id": "005f11c4",
   "metadata": {},
   "source": [
    "#### 1.1 Độ tuổi ảnh hưởng đến quyết định gửi tiền kỳ hạn như thế nào?\n",
    "- Ta sẽ xem những người đồng ý gửi kỳ hạn thường tập trung đổ tuổi nào, còn những người không đồng ý gửi kỳ hạn sẽ như thế nào\n",
    "\n",
    "##### Tiến hành xử lý dữ liệu: \n",
    "- Trước tiên ta cần xử lý dữ liệu, chia độ tuổi thành các cụm khác nhau, theo quan sát thì độ tuổi nhỏ nhất là 18 và lớn nhất là 95. Vậy ta sẽ chia thành các cụm *18-30*, *30-60* và *60 trở lên*."
   ]
  },
  {
   "cell_type": "code",
   "execution_count": 14,
   "id": "9a7c6b33",
   "metadata": {
    "ExecuteTime": {
     "end_time": "2022-01-15T15:01:44.256326Z",
     "start_time": "2022-01-15T15:01:43.762328Z"
    },
    "scrolled": true
   },
   "outputs": [
    {
     "data": {
      "text/plain": [
       "Text(0.5, 1.0, 'Phân bố quyết định ở từng nhóm tuổi')"
      ]
     },
     "execution_count": 14,
     "metadata": {},
     "output_type": "execute_result"
    },
    {
     "data": {
      "image/png": "[encoded data removed]",
      "text/plain": [
       "<Figure size 432x288 with 1 Axes>"
      ]
     },
     "metadata": {},
     "output_type": "display_data"
    }
   ],
   "source": [
    "age_df = bank_df[['age','deposit']].copy()\n",
    "age_df.loc[(age_df['age'] >= 18) & (age_df['age'] < 30), 'AgeGroup'] = '18-30'\n",
    "age_df.loc[(age_df['age'] >= 30) & (age_df['age'] < 60),'AgeGroup'] = '30-60'\n",
    "age_df.loc[age_df['age'] >= 60, 'AgeGroup'] = '60 and older'\n",
    "\n",
    "sns.countplot( x='AgeGroup',hue='deposit',data=age_df[['deposit','AgeGroup']])\n",
    "plt.title(\"Phân bố quyết định ở từng nhóm tuổi\")"
   ]
  },
  {
   "cell_type": "code",
   "execution_count": 15,
   "id": "b7cfdcbf",
   "metadata": {
    "ExecuteTime": {
     "end_time": "2022-01-15T15:01:44.942328Z",
     "start_time": "2022-01-15T15:01:44.262333Z"
    }
   },
   "outputs": [
    {
     "data": {
      "text/plain": [
       "Text(0.5, 1.0, 'Phần trăm khả năng đồng ý ở từng độ tuổi')"
      ]
     },
     "execution_count": 15,
     "metadata": {},
     "output_type": "execute_result"
    },
    {
     "data": {
      "image/png": "[encoded data removed]",
      "text/plain": [
       "<Figure size 432x288 with 1 Axes>"
      ]
     },
     "metadata": {},
     "output_type": "display_data"
    }
   ],
   "source": [
    "group_deposit_age_df = age_df[['deposit','age']].groupby(['deposit','age']).size().reset_index(name='count')\n",
    "\n",
    "count_df = group_deposit_age_df.pivot_table('count','age','deposit')\n",
    "count_df = count_df[['yes','no']]\n",
    "count_df.replace(np.nan,0,inplace=True)\n",
    "\n",
    "percent_df = pd.DataFrame()\n",
    "percent_df['percent'] = count_df['yes']/(count_df['no']+count_df['yes'])\n",
    "percent_df.plot.line()\n",
    "plt.title(\"Phần trăm khả năng đồng ý ở từng độ tuổi\")"
   ]
  },
  {
   "cell_type": "markdown",
   "id": "ad2cb28c",
   "metadata": {},
   "source": [
    "- **Nhận xét:**\n",
    "    - Ta có thể thấy những người từ khoảng độ tuổi từ *nhỏ hơn 30* sẽ có xu hướng gửi kỳ hạn cao.\n",
    "    - Và khi bước sang độ tuổi từ *30-60* đã có sử chuyển biến, tỷ lệ người gửi kỳ hạn đã giảm đi.\n",
    "    - Và cuối cùng lại tăng lên ở độ tuổi *60 trở lên*\n",
    "    - Từ quan sát trên ta có thể thấy chiến dịch marketing thường sẽ hiệu quả với những người trẻ (*nhỏ hơn 30*) hoặc những người lớn tuổi (*lớn hơn 60*), có thể thấy nhóm đối tượng khách hàng từ *30-60* chưa thực sự phản ứng mạnh mẽ với chiến dịch marketing. Điều này có thể vì nguyên nhân chủ quan và khách quan: chiến dịch marketing chưa đánh vào tâm lý của khách hàng ở nhóm tuổi này hoặc vì các lý do khách quan khác."
   ]
  },
  {
   "cell_type": "markdown",
   "id": "7e7d9996",
   "metadata": {},
   "source": [
    "#### 1.2 Nghề nghiệp ảnh hưởng đến quyết định gửi tiền kỳ hạn như thế nào?"
   ]
  },
  {
   "cell_type": "markdown",
   "id": "f6892196",
   "metadata": {},
   "source": [
    "- Đầu tiên ta hãy xem phân bổ số người tham gia và số người đồng ý ở từng nghề nghiệp"
   ]
  },
  {
   "cell_type": "code",
   "execution_count": 16,
   "id": "563a3cd7",
   "metadata": {
    "ExecuteTime": {
     "end_time": "2022-01-15T15:01:45.735331Z",
     "start_time": "2022-01-15T15:01:44.948335Z"
    }
   },
   "outputs": [
    {
     "data": {
      "text/plain": [
       "Text(0.5, 1.0, 'Phân bố quyết định ở từng nghề nghiệp')"
      ]
     },
     "execution_count": 16,
     "metadata": {},
     "output_type": "execute_result"
    },
    {
     "data": {
      "image/png": "[encoded data removed]",
      "text/plain": [
       "<Figure size 1008x576 with 1 Axes>"
      ]
     },
     "metadata": {},
     "output_type": "display_data"
    }
   ],
   "source": [
    "job_df = bank_df[['job','deposit']].copy()\n",
    "\n",
    "fig, ax = plt.subplots(figsize=(14,8))\n",
    "sns.countplot(ax=ax, x='job',hue='deposit',data=job_df)\n",
    "plt.title(\"Phân bố quyết định ở từng nghề nghiệp\")"
   ]
  },
  {
   "cell_type": "markdown",
   "id": "5444e1dc",
   "metadata": {},
   "source": [
    "- Tiếp theo hãy nhìn vào biểu đồ tỷ lệ đồng ý tham gia ở mỗi nghề nghiệp"
   ]
  },
  {
   "cell_type": "code",
   "execution_count": 17,
   "id": "372bf475",
   "metadata": {
    "ExecuteTime": {
     "end_time": "2022-01-15T15:01:46.277333Z",
     "start_time": "2022-01-15T15:01:45.741331Z"
    }
   },
   "outputs": [
    {
     "data": {
      "text/plain": [
       "Text(0.5, 1.0, 'Phần trăm khả năng đồng ý ở từng nghề nghiệp')"
      ]
     },
     "execution_count": 17,
     "metadata": {},
     "output_type": "execute_result"
    },
    {
     "data": {
      "image/png": "[encoded data removed]",
      "text/plain": [
       "<Figure size 648x360 with 1 Axes>"
      ]
     },
     "metadata": {},
     "output_type": "display_data"
    }
   ],
   "source": [
    "job_list = job_df['job'].unique()\n",
    "job_percent_yes = dict()\n",
    "for job in job_list:\n",
    "    n_yes = job_df.loc[(job_df['job'] == job) & (job_df['deposit'] == 'yes')].shape[0]\n",
    "    n = job_df.loc[(job_df['job'] == job)].shape[0]\n",
    "    if n!=0:\n",
    "        job_percent_yes[job] = n_yes/n\n",
    "\n",
    "job_percent_yes = pd.DataFrame(job_percent_yes.items(), columns=['Job','Percent'])\n",
    "plt.figure(figsize=(9,5))\n",
    "sns.barplot(x='Percent',y='Job',data=job_percent_yes)\n",
    "plt.title(\"Phần trăm khả năng đồng ý ở từng nghề nghiệp\")"
   ]
  },
  {
   "cell_type": "markdown",
   "id": "10f4cc36",
   "metadata": {},
   "source": [
    "- Từ trên ta thấy được những đối tượng dễ tiếp cận là *Student, retired, unemployed* đều có điểm chung là không có sự ổn định trong công việc và cần số tiền của mình sinh lời một cách ổn định. \n",
    "- Những đối tượng khó tiếp cận thường là *blue-collar, entrepreneur* đều có thể thấy là những đối tượng có khả năng tiếp cận với các nguồn sinh lợi lớn hơn so với gửi kỳ hạn."
   ]
  },
  {
   "cell_type": "markdown",
   "id": "e8884938",
   "metadata": {},
   "source": [
    "#### 1.3 Tình trạng hôn nhân ảnh hưởng đến quyết định gửi tiền kỳ hạn như thế nào?"
   ]
  },
  {
   "cell_type": "code",
   "execution_count": 18,
   "id": "5d836cd8",
   "metadata": {
    "ExecuteTime": {
     "end_time": "2022-01-15T15:01:46.886329Z",
     "start_time": "2022-01-15T15:01:46.284328Z"
    }
   },
   "outputs": [
    {
     "data": {
      "text/plain": [
       "Text(0.5, 1.0, 'Phân bố quyết định theo tình trạng hôn nhân')"
      ]
     },
     "execution_count": 18,
     "metadata": {},
     "output_type": "execute_result"
    },
    {
     "data": {
      "image/png": "[encoded data removed]",
      "text/plain": [
       "<Figure size 432x288 with 1 Axes>"
      ]
     },
     "metadata": {},
     "output_type": "display_data"
    }
   ],
   "source": [
    "marital_df = bank_df[['marital','deposit']].copy()\n",
    "marital_df.count()\n",
    "sns.countplot(x='marital',hue='deposit',data=marital_df)\n",
    "plt.title(\"Phân bố quyết định theo tình trạng hôn nhân\")"
   ]
  },
  {
   "cell_type": "markdown",
   "id": "a3f4a049",
   "metadata": {
    "ExecuteTime": {
     "end_time": "2022-01-13T17:28:26.596285Z",
     "start_time": "2022-01-13T17:28:26.589284Z"
    }
   },
   "source": [
    "- Theo kết quả thu được ta thấy rằng không có sự phân hóa quá lớn giữa tình trạng hôn nhân của những người tham gia chiến dịch với quyết định gửi tiền của họ. Tuy vậy với những người đã lập gia đình, vẫn có một tỷ trọng lớn hơn nhất định về quyết định không gửi tiền."
   ]
  },
  {
   "cell_type": "markdown",
   "id": "c5f9b31c",
   "metadata": {},
   "source": [
    "#### 1.4 Mức độ giáo dục ảnh hưởng đến quyết định gửi tiền kỳ hạn như thế nào?"
   ]
  },
  {
   "cell_type": "code",
   "execution_count": 19,
   "id": "208b85b8",
   "metadata": {
    "ExecuteTime": {
     "end_time": "2022-01-15T15:01:47.551331Z",
     "start_time": "2022-01-15T15:01:46.895334Z"
    }
   },
   "outputs": [
    {
     "data": {
      "image/png": "[encoded data removed]",
      "text/plain": [
       "<Figure size 576x432 with 1 Axes>"
      ]
     },
     "metadata": {},
     "output_type": "display_data"
    }
   ],
   "source": [
    "marital_df = bank_df[['education','deposit']].copy()\n",
    "\n",
    "plt.figure(figsize=(8, 6))\n",
    "g = sns.countplot(x= 'education', hue = 'deposit', data=marital_df)\n",
    "plt.yticks([])\n",
    "for container in g.containers:\n",
    "    g.bar_label(container, padding = 2)\n",
    "plt.title(\"Phân bố quyết định theo học vấn\")\n",
    "plt.show()"
   ]
  },
  {
   "cell_type": "markdown",
   "id": "db867ad9",
   "metadata": {
    "ExecuteTime": {
     "end_time": "2022-01-13T17:29:11.091586Z",
     "start_time": "2022-01-13T17:29:11.079586Z"
    }
   },
   "source": [
    "- Ta có thể thấy rằng với nhóm khách hàng có mức độ giáo dục cao trong chiến dịch, họ có xu hướng ổn định hơn 2 nhóm còn lại. "
   ]
  },
  {
   "cell_type": "markdown",
   "id": "f04fb88e",
   "metadata": {},
   "source": [
    "#### 1.5 Các khoản nợ vay có ảnh hưởng đến quyết định gửi tiền kỳ hạn như thế nào?"
   ]
  },
  {
   "cell_type": "markdown",
   "id": "6853099b",
   "metadata": {},
   "source": [
    "- Liệu những người có cả bất kỳ khoản nợ nào có tỷ lệ tham gia chênh lệch với những người không có khoảng nợ hay không?\n",
    "    - Đầu tiên ta sẽ tính tỷ lệ tham gia của những người không có khoản nợ nào, sau đó là tỷ lệ của những người có khoản nợ nói chung."
   ]
  },
  {
   "cell_type": "code",
   "execution_count": 20,
   "id": "a48099da",
   "metadata": {
    "ExecuteTime": {
     "end_time": "2022-01-15T15:01:47.614344Z",
     "start_time": "2022-01-15T15:01:47.557338Z"
    }
   },
   "outputs": [
    {
     "name": "stdout",
     "output_type": "stream",
     "text": [
      "Tỷ lệ người không có nợ là:  47.09 %\n",
      "Tỷ lệ người không có nợ tham gia là:  0.28 %\n",
      "Tỷ lệ người có nợ là:  52.91 %\n",
      "Tỷ lệ người có nợ tham gia là:  0.19 %\n"
     ]
    }
   ],
   "source": [
    "loan_df = bank_df[['housing','loan','deposit']]\n",
    "no_loan_df = loan_df.loc[(loan_df['housing'] == 'no') & (loan_df['loan'] == 'no')]\n",
    "\n",
    "\n",
    "a = no_loan_df.loc[no_loan_df['deposit'] == 'yes'].shape[0]/loan_df.shape[0]\n",
    "\n",
    "print(\"Tỷ lệ người không có nợ là: \",round(no_loan_df.shape[0] *100 / loan_df.shape[0],2),\"%\")\n",
    "print(\"Tỷ lệ người không có nợ tham gia là: \",round(a,2),\"%\")\n",
    "\n",
    "any_loan_df = loan_df.loc[(loan_df['housing'] == 'yes') | (loan_df['loan'] == 'yes')]\n",
    "\n",
    "b = any_loan_df.loc[any_loan_df['deposit'] == 'yes'].shape[0]/loan_df.shape[0]\n",
    "\n",
    "print(\"Tỷ lệ người có nợ là: \",round(any_loan_df.shape[0] *100 / loan_df.shape[0],2),\"%\")\n",
    "print(\"Tỷ lệ người có nợ tham gia là: \",round(b,2),\"%\")"
   ]
  },
  {
   "cell_type": "markdown",
   "id": "d6f94286",
   "metadata": {},
   "source": [
    "- Tiếp theo hãy cùng nhìn qua phân bổ quyết định của đối tượng khách hàng có nợ nói chung"
   ]
  },
  {
   "cell_type": "code",
   "execution_count": 21,
   "id": "2e79ec62",
   "metadata": {
    "ExecuteTime": {
     "end_time": "2022-01-15T15:01:48.301327Z",
     "start_time": "2022-01-15T15:01:47.622332Z"
    }
   },
   "outputs": [
    {
     "data": {
      "image/png": "[encoded data removed]",
      "text/plain": [
       "<Figure size 1008x360 with 3 Axes>"
      ]
     },
     "metadata": {},
     "output_type": "display_data"
    }
   ],
   "source": [
    "# Default, has credit in default ?\n",
    "fig, (ax1, ax2, ax3) = plt.subplots(nrows = 1, ncols = 3, figsize = (14,5))\n",
    "sns.countplot(x = 'default', data =bank_df, ax = ax1, order = ['no', 'yes'])\n",
    "ax1.set_title('Default', fontsize=15)\n",
    "ax1.set_xlabel('')\n",
    "ax1.set_ylabel('Count', fontsize=15)\n",
    "ax1.tick_params(labelsize=15)\n",
    "ax1.title.set_text(\"Phân bổ quyết định theo khoản nợ tín dụng\")\n",
    "\n",
    "# Housing, has housing loan ?\n",
    "sns.countplot(x = 'housing', data = bank_df, ax = ax2, order = ['no', 'yes'])\n",
    "ax2.set_title('Housing', fontsize=15)\n",
    "ax2.set_xlabel('')\n",
    "ax2.set_ylabel('Count', fontsize=15)\n",
    "ax2.tick_params(labelsize=15)\n",
    "ax2.title.set_text(\"Phân bổ quyết định theo khoản nợ mua nhà\")\n",
    "\n",
    "# Loan, has personal loan ?\n",
    "sns.countplot(x = 'loan', data = bank_df, ax = ax3, order = ['no', 'yes'])\n",
    "ax3.set_title('Loan', fontsize=15)\n",
    "ax3.set_xlabel('')\n",
    "ax3.set_ylabel('Count', fontsize=15)\n",
    "ax3.tick_params(labelsize=15)\n",
    "ax3.title.set_text(\"Phân bổ quyết định theo cá nhân\")\n",
    "\n",
    "plt.subplots_adjust(wspace=2.5)"
   ]
  },
  {
   "cell_type": "markdown",
   "id": "ab24eb1c",
   "metadata": {},
   "source": [
    "* Nhận xét:\n",
    "    - Nhìn chung, khi khách hàng có một trong 3 khoản nợ trên, xu hướng không gửi tiền là áp đảo.\n",
    "    - Tuy nhiên ở nhóm khách hàng có khoản nợ mua nhà thì sự chênh lệch không quá lớn. Vậy nên chiến dịch marketing nên có một sự tập trung nhất định vào đối tượng này vì họ là nhóm khách hàng có xu hướng theo đuổi sự ổn định."
   ]
  },
  {
   "cell_type": "markdown",
   "id": "7c1502a7",
   "metadata": {},
   "source": [
    "### Câu hỏi 2: Số cuộc liên lạc của khách hàng theo từng tháng là bao nhiêu? Tháng nào có tỉ lệ thành công cao nhất?"
   ]
  },
  {
   "cell_type": "markdown",
   "id": "0f5ba638",
   "metadata": {},
   "source": [
    "### Tiền xử lý dữ liệu để trả lời câu hỏi"
   ]
  },
  {
   "cell_type": "markdown",
   "id": "05ad6e1c",
   "metadata": {},
   "source": [
    "Các bước tiền xử lý dữ liệu cần thiết:\n",
    "- **Bước 1:** Gom nhóm dữ liệu theo cột month, đồng thời dùng phương thức count() trên thuộc tính `age` để tính số lượng cuộc gọi theo tháng. Vẽ barchart minh hoạ cho `Số cuộc gọi theo tháng của chiến dịch`.\n",
    "- **Bước 2:** Tính toán tỉ lệ thành công (deposit = yes) trên số cuộc gọi mỗi tháng để tìm ra những tháng có tỉ lệ thành công cao nhất."
   ]
  },
  {
   "cell_type": "markdown",
   "id": "c3bfb6d5",
   "metadata": {},
   "source": [
    "#### Code bước 1"
   ]
  },
  {
   "cell_type": "code",
   "execution_count": 22,
   "id": "dd4bdf0d",
   "metadata": {
    "ExecuteTime": {
     "end_time": "2022-01-15T15:01:48.332337Z",
     "start_time": "2022-01-15T15:01:48.306332Z"
    }
   },
   "outputs": [
    {
     "data": {
      "text/plain": [
       "month\n",
       "1      344\n",
       "2      776\n",
       "3      276\n",
       "4      923\n",
       "5     2824\n",
       "6     1222\n",
       "7     1514\n",
       "8     1519\n",
       "9      319\n",
       "10     392\n",
       "11     943\n",
       "12     110\n",
       "Name: age, dtype: int64"
      ]
     },
     "execution_count": 22,
     "metadata": {},
     "output_type": "execute_result"
    }
   ],
   "source": [
    "month_group = bank_df.groupby([\"month\"])\n",
    "month_ct = month_group[\"age\"].count()\n",
    "month_ct"
   ]
  },
  {
   "cell_type": "code",
   "execution_count": 23,
   "id": "a5c6022a",
   "metadata": {
    "ExecuteTime": {
     "end_time": "2022-01-15T15:01:48.936330Z",
     "start_time": "2022-01-15T15:01:48.338334Z"
    }
   },
   "outputs": [
    {
     "data": {
      "text/plain": [
       "<AxesSubplot:title={'center':'Số cuộc gọi theo tháng của chiến dịch'}, xlabel='month', ylabel='Số cuộc gọi'>"
      ]
     },
     "execution_count": 23,
     "metadata": {},
     "output_type": "execute_result"
    },
    {
     "data": {
      "image/png": "[encoded data removed]",
      "text/plain": [
       "<Figure size 720x576 with 1 Axes>"
      ]
     },
     "metadata": {},
     "output_type": "display_data"
    }
   ],
   "source": [
    "plt.figure(figsize=(10, 8))\n",
    "plt.ylabel(\"Số cuộc gọi\")\n",
    "plt.title(\"Số cuộc gọi theo tháng của chiến dịch\")\n",
    "for i, v in enumerate(month_ct):\n",
    "    plt.text(i-0.25, v+50, str(v), fontweight='bold')\n",
    "month_ct.plot(kind='bar', rot=0)"
   ]
  },
  {
   "cell_type": "markdown",
   "id": "5a91b128",
   "metadata": {},
   "source": [
    "Trong chiến dịch lần này, ngân hàng tập trung liên hệ cho khách hàng rất nhiều trong tháng 5 (2824 cuộc liên lạc) và họ liên lạc cho khách hàng ít nhất vào tháng 12 (110 cuộc gọi). Tuy nhiên chưa chắc gọi nhiều sẽ có tỉ lệ thành công cao do đó cần phải tính tỉ lệ thành công (deposit = yes) trên số cuộc gọi mỗi tháng."
   ]
  },
  {
   "cell_type": "markdown",
   "id": "c78ba3f3",
   "metadata": {},
   "source": [
    "#### Code bước 2"
   ]
  },
  {
   "cell_type": "code",
   "execution_count": 24,
   "id": "f52ae300",
   "metadata": {
    "ExecuteTime": {
     "end_time": "2022-01-15T15:01:49.109330Z",
     "start_time": "2022-01-15T15:01:48.946338Z"
    }
   },
   "outputs": [
    {
     "data": {
      "text/html": [
       "<div>\n",
       "<style scoped>\n",
       "    .dataframe tbody tr th:only-of-type {\n",
       "        vertical-align: middle;\n",
       "    }\n",
       "\n",
       "    .dataframe tbody tr th {\n",
       "        vertical-align: top;\n",
       "    }\n",
       "\n",
       "    .dataframe thead th {\n",
       "        text-align: right;\n",
       "    }\n",
       "</style>\n",
       "<table border=\"1\" class=\"dataframe\">\n",
       "  <thead>\n",
       "    <tr style=\"text-align: right;\">\n",
       "      <th></th>\n",
       "      <th>month</th>\n",
       "      <th>Success Rate (%)</th>\n",
       "      <th>Full Rate (%)</th>\n",
       "    </tr>\n",
       "  </thead>\n",
       "  <tbody>\n",
       "    <tr>\n",
       "      <th>0</th>\n",
       "      <td>1</td>\n",
       "      <td>41.28</td>\n",
       "      <td>100.0</td>\n",
       "    </tr>\n",
       "    <tr>\n",
       "      <th>1</th>\n",
       "      <td>2</td>\n",
       "      <td>56.83</td>\n",
       "      <td>100.0</td>\n",
       "    </tr>\n",
       "    <tr>\n",
       "      <th>2</th>\n",
       "      <td>3</td>\n",
       "      <td>89.86</td>\n",
       "      <td>100.0</td>\n",
       "    </tr>\n",
       "    <tr>\n",
       "      <th>3</th>\n",
       "      <td>4</td>\n",
       "      <td>62.51</td>\n",
       "      <td>100.0</td>\n",
       "    </tr>\n",
       "    <tr>\n",
       "      <th>4</th>\n",
       "      <td>5</td>\n",
       "      <td>32.75</td>\n",
       "      <td>100.0</td>\n",
       "    </tr>\n",
       "    <tr>\n",
       "      <th>5</th>\n",
       "      <td>6</td>\n",
       "      <td>44.68</td>\n",
       "      <td>100.0</td>\n",
       "    </tr>\n",
       "    <tr>\n",
       "      <th>6</th>\n",
       "      <td>7</td>\n",
       "      <td>41.41</td>\n",
       "      <td>100.0</td>\n",
       "    </tr>\n",
       "    <tr>\n",
       "      <th>7</th>\n",
       "      <td>8</td>\n",
       "      <td>45.29</td>\n",
       "      <td>100.0</td>\n",
       "    </tr>\n",
       "    <tr>\n",
       "      <th>8</th>\n",
       "      <td>9</td>\n",
       "      <td>84.33</td>\n",
       "      <td>100.0</td>\n",
       "    </tr>\n",
       "    <tr>\n",
       "      <th>9</th>\n",
       "      <td>10</td>\n",
       "      <td>82.40</td>\n",
       "      <td>100.0</td>\n",
       "    </tr>\n",
       "    <tr>\n",
       "      <th>10</th>\n",
       "      <td>11</td>\n",
       "      <td>42.74</td>\n",
       "      <td>100.0</td>\n",
       "    </tr>\n",
       "    <tr>\n",
       "      <th>11</th>\n",
       "      <td>12</td>\n",
       "      <td>90.91</td>\n",
       "      <td>100.0</td>\n",
       "    </tr>\n",
       "  </tbody>\n",
       "</table>\n",
       "</div>"
      ],
      "text/plain": [
       "    month  Success Rate (%)  Full Rate (%)\n",
       "0       1             41.28          100.0\n",
       "1       2             56.83          100.0\n",
       "2       3             89.86          100.0\n",
       "3       4             62.51          100.0\n",
       "4       5             32.75          100.0\n",
       "5       6             44.68          100.0\n",
       "6       7             41.41          100.0\n",
       "7       8             45.29          100.0\n",
       "8       9             84.33          100.0\n",
       "9      10             82.40          100.0\n",
       "10     11             42.74          100.0\n",
       "11     12             90.91          100.0"
      ]
     },
     "execution_count": 24,
     "metadata": {},
     "output_type": "execute_result"
    }
   ],
   "source": [
    "df_g = bank_df.query('deposit == \"yes\"')\n",
    "success_ct = df_g.groupby(\"month\").size()\n",
    "success_rate = round(success_ct / month_ct * 100, 2)\n",
    "success_rate_df = pd.DataFrame(index = month_ct.index)\n",
    "success_rate_df[\"Success Rate (%)\"] = success_rate\n",
    "success_rate_df[\"Full Rate (%)\"] = 100.0\n",
    "success_rate_df = success_rate_df.reset_index()\n",
    "success_rate_df"
   ]
  },
  {
   "cell_type": "code",
   "execution_count": 25,
   "id": "5f7e941a",
   "metadata": {
    "ExecuteTime": {
     "end_time": "2022-01-15T15:01:50.025326Z",
     "start_time": "2022-01-15T15:01:49.118336Z"
    }
   },
   "outputs": [
    {
     "data": {
      "image/png": "[encoded data removed]",
      "text/plain": [
       "<Figure size 432x432 with 1 Axes>"
      ]
     },
     "metadata": {},
     "output_type": "display_data"
    }
   ],
   "source": [
    "plt.figure(figsize=(6, 6))\n",
    "bar1 = sns.barplot(x=\"month\",  y=\"Full Rate (%)\", data=success_rate_df, color='red')\n",
    "\n",
    "# bar chart 2 -> bottom bars (group of 'smoker=Yes')\n",
    "bar2 = sns.barplot(x=\"month\", y=\"Success Rate (%)\", data=success_rate_df, color='green')\n",
    "\n",
    "# add legend\n",
    "top_bar = mpatches.Patch(color='red', label='deposit = No')\n",
    "bottom_bar = mpatches.Patch(color='green', label='deposit = Yes')\n",
    "plt.legend(handles=[top_bar, bottom_bar], loc=\"upper center\", bbox_to_anchor=(0.5, 1.15), ncol=1)\n",
    "\n",
    "# show the graph\n",
    "plt.show()"
   ]
  },
  {
   "cell_type": "markdown",
   "id": "47a763e3",
   "metadata": {},
   "source": [
    "- Theo quan sát từ biểu đồ thì tháng các tháng có tỉ lệ thành công cao nhất là `3, 9, 10, 12`. Mặc dù tháng `5` (2824 cuộc liên lạc) là tháng có số cuộc gọi là lớn nhất nhưng tỉ lệ thành công lại khá thấp, thậm chí là thấp nhất trong 12 tháng. Điều này chứng tỏ rằng ngân hàng đã đầu tư thời gian của mình chưa thật sự phù hợp. Nên tăng số lượng liên lạc trong các tháng `3, 9, 10, 12` lên thì có lẽ hiệu quả của chiến dịch sẽ được cải thiện nhiều hơn.\n",
    "- Tuy rằng là các tháng `3, 9, 10, 12` có số cuộc gọi khá ít dẫn tới tỉ lệ thành công cao nhưng cũng phải nói rằng ngân hàng đã thực hiện quá nhiều cuộc liên lạc thất bại trong tháng `5`."
   ]
  },
  {
   "cell_type": "markdown",
   "id": "c6ec75f5",
   "metadata": {},
   "source": [
    "### Câu hỏi 3: Tỉ lệ những khách hàng có giá trị `poutcome` là `failure` hoặc `other` mà đồng ý mở tài khoản tiền gửi có kỳ hạn"
   ]
  },
  {
   "cell_type": "markdown",
   "id": "1cad3529",
   "metadata": {},
   "source": [
    "### Tiền xử lý dữ liệu để trả lời câu hỏi"
   ]
  },
  {
   "cell_type": "code",
   "execution_count": 26,
   "id": "af06a0b3",
   "metadata": {
    "ExecuteTime": {
     "end_time": "2022-01-15T15:01:50.073328Z",
     "start_time": "2022-01-15T15:01:50.031332Z"
    }
   },
   "outputs": [
    {
     "name": "stdout",
     "output_type": "stream",
     "text": [
      "Tỉ lệ khách hàng đồng ý mở tài khoản tiền gửi có kỳ hạn là 52.41 %\n",
      "Tỉ lệ khách hàng không đồng ý mở tài khoản tiền gửi có kỳ hạn là 47.59 %\n"
     ]
    }
   ],
   "source": [
    "poutcome_df = bank_df[((bank_df[\"poutcome\"] == \"failure\") | \n",
    "                       (bank_df[\"poutcome\"] == \"other\"))]\n",
    "poutcome_df.reset_index(inplace=True)\n",
    "total_case = len(poutcome_df)\n",
    "depo_group = poutcome_df.groupby(\"deposit\")[\"index\"].count()\n",
    "percent_accepted = round(depo_group[\"yes\"] / total_case * 100, 2)\n",
    "percent_denied = 100 - percent_accepted\n",
    "print(f\"Tỉ lệ khách hàng đồng ý mở tài khoản tiền gửi có kỳ hạn là {percent_accepted} %\")\n",
    "print(f\"Tỉ lệ khách hàng không đồng ý mở tài khoản tiền gửi có kỳ hạn là {percent_denied} %\")"
   ]
  },
  {
   "cell_type": "code",
   "execution_count": 27,
   "id": "73a063fa",
   "metadata": {
    "ExecuteTime": {
     "end_time": "2022-01-15T15:01:50.388332Z",
     "start_time": "2022-01-15T15:01:50.081330Z"
    },
    "scrolled": false
   },
   "outputs": [
    {
     "data": {
      "text/plain": [
       "<AxesSubplot:title={'center':'Tỉ lệ khách hàng thay đổi suy nghĩ'}, ylabel='None'>"
      ]
     },
     "execution_count": 27,
     "metadata": {},
     "output_type": "execute_result"
    },
    {
     "data": {
      "image/png": "[encoded data removed]",
      "text/plain": [
       "<Figure size 576x576 with 1 Axes>"
      ]
     },
     "metadata": {},
     "output_type": "display_data"
    }
   ],
   "source": [
    "colors = [\"#FA5858\", \"#64FE2E\"]\n",
    "labels =\"Accepted\", \"Denied\"\n",
    "percent = pd.Series([percent_accepted, percent_denied])\n",
    "plt.figure(figsize=(8, 8))\n",
    "plt.title('Tỉ lệ khách hàng thay đổi suy nghĩ', fontsize=15)\n",
    "percent.plot.pie(explode=[0,0.1], autopct='%1.2f%%', shadow=True, colors=colors, \n",
    "                 labels=labels, fontsize=12, startangle=30)"
   ]
  },
  {
   "cell_type": "markdown",
   "id": "e14e1a54",
   "metadata": {},
   "source": [
    "Tập khách hàng này là những khách hàng đã ngân hàng liên lạc trong 1 chiến dịch trước đó nhưng không đồng ý tham gia hoặc còn đang phân vân có nên tham gia hay không, theo quan sát thì tỉ lệ khách hàng đồng ý tham gia lần này (thay đổi suy nghĩ) là 52,41%, đây là một con số không quá cao nhưng cho thấy được sự cải thiện của ngân hàng trong chiến dịch lần này. Hơn một nửa số khách hàng đã quyết định thay đổi suy nghĩ và đăng ký tài khoản tiền gửi có kỳ hạn cũng là 1 thành công tương đối và ngân hàng cần phải quan tâm đến tập khách hàng này nhiều hơn nữa nếu muốn chiến dịch thực sự thành công"
   ]
  },
  {
   "cell_type": "markdown",
   "id": "53e645d1",
   "metadata": {},
   "source": [
    "---"
   ]
  },
  {
   "cell_type": "markdown",
   "id": "c952c249",
   "metadata": {},
   "source": [
    "## Reflection"
   ]
  },
  {
   "cell_type": "markdown",
   "id": "19586117",
   "metadata": {},
   "source": [
    "### Lê Tấn Đạt - 19127353"
   ]
  },
  {
   "cell_type": "markdown",
   "id": "12309381",
   "metadata": {},
   "source": [
    "#### Những khó khăn gặp phải\n",
    "\n",
    "- Kiến thức của ngành khoa học dữ liệu khá dàn trải và yêu cầu em phải thành thạo nhiều kỹ năng từ thu thập, phân tích cho đến trực quan hoá dữ liệu. Kỹ năng đặt câu hỏi và trả lời câu hỏi dựa trên tập dữ liệu khá khoai đối với em.\n",
    "- Lần đầu làm việc cùng bạn Nguyễn Hữu Thông có những sự khó khăn nhất định, thật may mắn là bạn đã giúp đỡ em rất nhiều để cả hai cùng hoàn thành tốt đồ án.\n",
    "- Học kì vừa rồi em thật sự không có quá nhiều thời gian rảnh để cùng họp và làm việc với bạn cùng nhóm, chúng em học khá nhiều môn và hai ngành khác nhau do đó để hẹn được 1 cuộc họp khá khó khăn với thời gian mỗi cuộc họp khá hạn chế.\n",
    "- Tìm được 1 tập dữ liệu hay và phù hợp với mong muốn của nhóm khá khó khăn, tụi em ngồi hơn 2 tiếng chỉ để tìm được 1 tập dữ liệu phù hợp với các tiêu chí mà tụi em đặt ra.\n",
    "- Học và làm việc thành thạo với `groupby` trong `Pandas` thực sự khiến em mất rất nhiều thời gian.....tra Google và coi lại video của thầy Kiên :((((("
   ]
  },
  {
   "cell_type": "markdown",
   "id": "b28a6c69",
   "metadata": {},
   "source": [
    "#### Những điều học được trong quá trình thực hiện đồ án\n",
    "\n",
    "- Phải phân chia thời gian hợp lý để cân bằng giữa việc thi cử và làm đồ án.\n",
    "- Tự mình lên kế hoạch và thực hiện được một quy trình Khoa học dữ liệu khá đầy đủ và chi tiết.\n",
    "- Làm quen với bạn mới, cùng nhau làm đồ án mặc dù cả hai chưa từng làm việc chung trước đó.\n",
    "- Kỹ năng tra Google được cải thiện đáng kể ^^\n",
    "- Học được các kĩ năng và thư viện Python cho Khoa học dữ liệu một cách đầy đủ và chi tiết thông qua chuỗi video bài giảng của thầy Kiên (git, numpy, pandas).\n",
    "- Nhận xét dữ liệu một cách khách quan, đọc và thấu hiểu dữ liệu để từ đó tránh đưa ra những giả thiết sai lệch về một vấn đề không chỉ trong Khoa học dữ liệu mà còn trong cuộc sống thường ngày (`anti bias`). "
   ]
  },
  {
   "cell_type": "markdown",
   "id": "0bdaa2e0",
   "metadata": {},
   "source": [
    "### Nguyễn Hữu Thông - 19127564"
   ]
  },
  {
   "cell_type": "markdown",
   "id": "fd6aeacc",
   "metadata": {},
   "source": [
    "#### Những khó khăn gặp phải\n",
    "\n",
    "- Việc đặt câu hỏi hợp lý và rút ra nhận xét.\n",
    "- Do ảnh hưởng dịch bệnh nên thời gian còn gấp gáp."
   ]
  },
  {
   "cell_type": "markdown",
   "id": "525b0fd2",
   "metadata": {},
   "source": [
    "#### Những điều học được trong quá trình thực hiện đồ án\n",
    "\n",
    "- Hiểu về quy trình làm việc của nhà khoa học dữ liệu.\n",
    "- Hiểu thêm về các thư viện numpy, pandas, matplotlib.\n",
    "- Học cách làm việc nhóm, học thêm các ý kiến hay từ nhóm."
   ]
  },
  {
   "cell_type": "markdown",
   "id": "c69efbc4",
   "metadata": {},
   "source": [
    "### Những điều mà nhóm em sẽ cải thiện nếu có thêm thời gian\n",
    "\n",
    "- Tiếp tục khám phá kĩ hơn về dữ liệu để đặt ra thêm nhiều câu hỏi hơn nữa về tập dữ liệu.\n",
    "- Ở câu hỏi 1 thì tụi em đang chọn ra những thuộc tính cơ bản để nhận xét, còn nhiều thuộc tính nữa do đó tụi em sẽ nghiên cứu thêm để có thể trực quan hoá dữ liệu đầy đủ hơn. \n",
    "- Xây dựng mô hình học máy đơn giản nhằm dự đoán trước về khả năng đăng ký tài khoản tiền gửi có kỳ hạn cho chiến dịch marketing kế tiếp (trên 1 tập khách hàng mới).\n",
    "- Điền đầy dữ liệu bị thiếu trong tập dữ liệu để phục vụ xây dựng mô hình (giá trị `unknown`)."
   ]
  },
  {
   "cell_type": "markdown",
   "id": "ffc2d7d3",
   "metadata": {},
   "source": [
    "---"
   ]
  },
  {
   "cell_type": "markdown",
   "id": "0e149a65",
   "metadata": {},
   "source": [
    "## References"
   ]
  },
  {
   "cell_type": "markdown",
   "id": "ad9b84e0",
   "metadata": {},
   "source": [
    "[Link dataset](https://www.kaggle.com/janiobachmann/bank-marketing-dataset)\n",
    "\n",
    "[Thùng chứa tài liệu môn học](https://drive.google.com/drive/u/0/folders/18cMq6zT-XA_XJd4SH8wMmxexAnG5eukb)\n",
    "\n",
    "[Link Kaggle EDA](https://www.kaggle.com/janiobachmann/bank-marketing-campaign-opening-a-term-deposit)"
   ]
  }
 ],
 "metadata": {
  "kernelspec": {
   "display_name": "Python 3 (ipykernel)",
   "language": "python",
   "name": "python3"
  },
  "language_info": {
   "codemirror_mode": {
    "name": "ipython",
    "version": 3
   },
   "file_extension": ".py",
   "mimetype": "text/x-python",
   "name": "python",
   "nbconvert_exporter": "python",
   "pygments_lexer": "ipython3",
   "version": "3.8.8"
  },
  "toc": {
   "base_numbering": 1,
   "nav_menu": {},
   "number_sections": false,
   "sideBar": true,
   "skip_h1_title": true,
   "title_cell": "Table of Contents",
   "title_sidebar": "Contents",
   "toc_cell": false,
   "toc_position": {
    "height": "calc(100% - 180px)",
    "left": "10px",
    "top": "150px",
    "width": "362.75px"
   },
   "toc_section_display": true,
   "toc_window_display": false
  }
 },
 "nbformat": 4,
 "nbformat_minor": 5
}
