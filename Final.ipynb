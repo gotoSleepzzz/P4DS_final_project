{
 "cells": [
  {
   "cell_type": "code",
   "execution_count": 1,
   "id": "7053313b",
   "metadata": {
    "ExecuteTime": {
     "end_time": "2022-01-11T14:13:07.864589Z",
     "start_time": "2022-01-11T14:13:04.562834Z"
    }
   },
   "outputs": [],
   "source": [
    "import numpy as np\n",
    "import pandas as pd\n",
    "import matplotlib.pyplot as plt\n",
    "import seaborn as sns"
   ]
  },
  {
   "cell_type": "markdown",
   "id": "ed121433",
   "metadata": {},
   "source": [
    "---"
   ]
  },
  {
   "cell_type": "markdown",
   "id": "ed805ef9",
   "metadata": {},
   "source": [
    "## Khám phá dữ liệu"
   ]
  },
  {
   "cell_type": "markdown",
   "id": "3fafae2d",
   "metadata": {},
   "source": [
    "### Đọc dữ liệu từ file csv vào dataframe"
   ]
  },
  {
   "cell_type": "code",
   "execution_count": 2,
   "id": "01d6c389",
   "metadata": {
    "ExecuteTime": {
     "end_time": "2022-01-11T14:13:08.037620Z",
     "start_time": "2022-01-11T14:13:07.869598Z"
    }
   },
   "outputs": [
    {
     "data": {
      "text/html": [
       "<div>\n",
       "<style scoped>\n",
       "    .dataframe tbody tr th:only-of-type {\n",
       "        vertical-align: middle;\n",
       "    }\n",
       "\n",
       "    .dataframe tbody tr th {\n",
       "        vertical-align: top;\n",
       "    }\n",
       "\n",
       "    .dataframe thead th {\n",
       "        text-align: right;\n",
       "    }\n",
       "</style>\n",
       "<table border=\"1\" class=\"dataframe\">\n",
       "  <thead>\n",
       "    <tr style=\"text-align: right;\">\n",
       "      <th></th>\n",
       "      <th>age</th>\n",
       "      <th>job</th>\n",
       "      <th>marital</th>\n",
       "      <th>education</th>\n",
       "      <th>default</th>\n",
       "      <th>balance</th>\n",
       "      <th>housing</th>\n",
       "      <th>loan</th>\n",
       "      <th>contact</th>\n",
       "      <th>day</th>\n",
       "      <th>month</th>\n",
       "      <th>duration</th>\n",
       "      <th>campaign</th>\n",
       "      <th>pdays</th>\n",
       "      <th>previous</th>\n",
       "      <th>poutcome</th>\n",
       "      <th>deposit</th>\n",
       "    </tr>\n",
       "  </thead>\n",
       "  <tbody>\n",
       "    <tr>\n",
       "      <th>0</th>\n",
       "      <td>59</td>\n",
       "      <td>admin.</td>\n",
       "      <td>married</td>\n",
       "      <td>secondary</td>\n",
       "      <td>no</td>\n",
       "      <td>2343</td>\n",
       "      <td>yes</td>\n",
       "      <td>no</td>\n",
       "      <td>unknown</td>\n",
       "      <td>5</td>\n",
       "      <td>may</td>\n",
       "      <td>1042</td>\n",
       "      <td>1</td>\n",
       "      <td>-1</td>\n",
       "      <td>0</td>\n",
       "      <td>unknown</td>\n",
       "      <td>yes</td>\n",
       "    </tr>\n",
       "    <tr>\n",
       "      <th>1</th>\n",
       "      <td>56</td>\n",
       "      <td>admin.</td>\n",
       "      <td>married</td>\n",
       "      <td>secondary</td>\n",
       "      <td>no</td>\n",
       "      <td>45</td>\n",
       "      <td>no</td>\n",
       "      <td>no</td>\n",
       "      <td>unknown</td>\n",
       "      <td>5</td>\n",
       "      <td>may</td>\n",
       "      <td>1467</td>\n",
       "      <td>1</td>\n",
       "      <td>-1</td>\n",
       "      <td>0</td>\n",
       "      <td>unknown</td>\n",
       "      <td>yes</td>\n",
       "    </tr>\n",
       "    <tr>\n",
       "      <th>2</th>\n",
       "      <td>41</td>\n",
       "      <td>technician</td>\n",
       "      <td>married</td>\n",
       "      <td>secondary</td>\n",
       "      <td>no</td>\n",
       "      <td>1270</td>\n",
       "      <td>yes</td>\n",
       "      <td>no</td>\n",
       "      <td>unknown</td>\n",
       "      <td>5</td>\n",
       "      <td>may</td>\n",
       "      <td>1389</td>\n",
       "      <td>1</td>\n",
       "      <td>-1</td>\n",
       "      <td>0</td>\n",
       "      <td>unknown</td>\n",
       "      <td>yes</td>\n",
       "    </tr>\n",
       "    <tr>\n",
       "      <th>3</th>\n",
       "      <td>55</td>\n",
       "      <td>services</td>\n",
       "      <td>married</td>\n",
       "      <td>secondary</td>\n",
       "      <td>no</td>\n",
       "      <td>2476</td>\n",
       "      <td>yes</td>\n",
       "      <td>no</td>\n",
       "      <td>unknown</td>\n",
       "      <td>5</td>\n",
       "      <td>may</td>\n",
       "      <td>579</td>\n",
       "      <td>1</td>\n",
       "      <td>-1</td>\n",
       "      <td>0</td>\n",
       "      <td>unknown</td>\n",
       "      <td>yes</td>\n",
       "    </tr>\n",
       "    <tr>\n",
       "      <th>4</th>\n",
       "      <td>54</td>\n",
       "      <td>admin.</td>\n",
       "      <td>married</td>\n",
       "      <td>tertiary</td>\n",
       "      <td>no</td>\n",
       "      <td>184</td>\n",
       "      <td>no</td>\n",
       "      <td>no</td>\n",
       "      <td>unknown</td>\n",
       "      <td>5</td>\n",
       "      <td>may</td>\n",
       "      <td>673</td>\n",
       "      <td>2</td>\n",
       "      <td>-1</td>\n",
       "      <td>0</td>\n",
       "      <td>unknown</td>\n",
       "      <td>yes</td>\n",
       "    </tr>\n",
       "  </tbody>\n",
       "</table>\n",
       "</div>"
      ],
      "text/plain": [
       "   age         job  marital  education default  balance housing loan  contact  \\\n",
       "0   59      admin.  married  secondary      no     2343     yes   no  unknown   \n",
       "1   56      admin.  married  secondary      no       45      no   no  unknown   \n",
       "2   41  technician  married  secondary      no     1270     yes   no  unknown   \n",
       "3   55    services  married  secondary      no     2476     yes   no  unknown   \n",
       "4   54      admin.  married   tertiary      no      184      no   no  unknown   \n",
       "\n",
       "   day month  duration  campaign  pdays  previous poutcome deposit  \n",
       "0    5   may      1042         1     -1         0  unknown     yes  \n",
       "1    5   may      1467         1     -1         0  unknown     yes  \n",
       "2    5   may      1389         1     -1         0  unknown     yes  \n",
       "3    5   may       579         1     -1         0  unknown     yes  \n",
       "4    5   may       673         2     -1         0  unknown     yes  "
      ]
     },
     "execution_count": 2,
     "metadata": {},
     "output_type": "execute_result"
    }
   ],
   "source": [
    "bank_df = pd.read_csv(\"bank.csv\")\n",
    "bank_df.head()"
   ]
  },
  {
   "cell_type": "markdown",
   "id": "86a30b18",
   "metadata": {},
   "source": [
    "### Dữ liệu có bao nhiêu dòng và bao nhiêu cột?"
   ]
  },
  {
   "cell_type": "code",
   "execution_count": 3,
   "id": "03179e3d",
   "metadata": {
    "ExecuteTime": {
     "end_time": "2022-01-11T14:13:08.084789Z",
     "start_time": "2022-01-11T14:13:08.051309Z"
    }
   },
   "outputs": [
    {
     "name": "stdout",
     "output_type": "stream",
     "text": [
      "Tập dữ liệu có 11162 dòng\n",
      "Tập dữ liệu có 17 cột\n"
     ]
    }
   ],
   "source": [
    "num_rows = bank_df.shape[0]\n",
    "num_cols = bank_df.shape[1]\n",
    "\n",
    "print(f\"Tập dữ liệu có {num_rows} dòng\")\n",
    "print(f\"Tập dữ liệu có {num_cols} cột\")"
   ]
  },
  {
   "cell_type": "markdown",
   "id": "a773aaef",
   "metadata": {},
   "source": [
    "### Mỗi dòng có ý nghĩa gì? Có vấn đề các dòng có ý nghĩa khác nhau không?"
   ]
  },
  {
   "cell_type": "markdown",
   "id": "f373f697",
   "metadata": {},
   "source": [
    "- Theo như mô tả của tác giả cũng như quan sát về tập dữ liệu thì mỗi dòng cho biết thông tin của một khách hàng, lần liên lạc cuối cùng đối với khách hàng đó trong chiến dịch và kết quả người đó có đăng ký tiền gửi có kỳ hạn hay không.\n",
    "- Không có dòng nào khác với các dòng còn lại."
   ]
  },
  {
   "cell_type": "markdown",
   "id": "66bdee6f",
   "metadata": {},
   "source": [
    "### Dữ liệu có các dòng bị lặp không?"
   ]
  },
  {
   "cell_type": "code",
   "execution_count": 4,
   "id": "c7171771",
   "metadata": {
    "ExecuteTime": {
     "end_time": "2022-01-11T14:13:08.160586Z",
     "start_time": "2022-01-11T14:13:08.098791Z"
    }
   },
   "outputs": [
    {
     "data": {
      "text/plain": [
       "0"
      ]
     },
     "execution_count": 4,
     "metadata": {},
     "output_type": "execute_result"
    }
   ],
   "source": [
    "bank_df.duplicated().sum()"
   ]
  },
  {
   "cell_type": "markdown",
   "id": "3b4e9a78",
   "metadata": {},
   "source": [
    "Không có các dòng bị lặp trong tập dữ liệu."
   ]
  },
  {
   "cell_type": "markdown",
   "id": "404d7a2c",
   "metadata": {},
   "source": [
    "### Mỗi cột có ý nghĩa gì?"
   ]
  },
  {
   "cell_type": "markdown",
   "id": "80ec9ebc",
   "metadata": {},
   "source": [
    "Mô tả về các cột trong tập dữ liệu `bank.csv` theo `UCI Machine Learning Repository`:\n",
    "- Thông tin khách hàng:\n",
    "    - **age**: age (numeric)\n",
    "    - **job**: type of job (categorical: 'admin.','blue\\-collar','entrepreneur','housemaid','management','retired','services','student','technician','unemployed', 'self-employed', 'unknown')\n",
    "    - **marital**: marital status (categorical: 'divorced','married','single','unknown'; note: 'divorced' means divorced or widowed)\n",
    "    - **education**: academic level (categorical: primary, secondary, tertiary and unknown)\n",
    "    - **default**: has credit in default? (categorical: 'no','yes','unknown')\n",
    "    - **housing**: has housing loan? (categorical: 'no','yes','unknown')\n",
    "    - **loan**: has personal loan? (numeric: 'no','yes','unknown')\n",
    "    - **balance**: balance of the individual.\n",
    "- Lần liên lạc cuối cùng trong chiến dịch:\n",
    "    - **contact**: contact communication type (categorical: 'cellular','telephone')\n",
    "    - **month**: last contact month of year (categorical: 'jan', 'feb', 'mar', ..., 'nov', 'dec')\n",
    "    - **day**: last contact day of this month (numeric)\n",
    "    - **duration**: last contact duration, in seconds (numeric). Important note: this attribute highly affects the output target (e.g., if duration=0 then y='no'). Yet, the duration is not known before a call is performed. Also, after the end of the call y is obviously known. Thus, this input should only be included for benchmark purposes and should be discarded if the intention is to have a realistic predictive model.\n",
    "- Các thông tin còn lại:\n",
    "    - **campaign**: number of contacts performed during this campaign and for this client (numeric, includes last contact)\n",
    "    - **pdays**: number of days that passed by after the client was last contacted from a previous campaign (numeric; -1 means client was not previously contacted)\n",
    "    - **previous**: number of contacts performed before this campaign and for this client (numeric)\n",
    "    - **poutcome**: outcome of the previous marketing campaign (categorical: 'failure','nonexistent','success')\n",
    "    - **deposit**: has the client subscribed a term deposit? (binary: 'yes','no')"
   ]
  },
  {
   "cell_type": "markdown",
   "id": "33d30a16",
   "metadata": {},
   "source": [
    "### Dữ liệu có bị thiếu hay không?"
   ]
  },
  {
   "cell_type": "markdown",
   "id": "6dfa1570",
   "metadata": {},
   "source": [
    "Theo flow của một bài HW của thầy thì phần kiểm tra dữ liệu có bị thiếu hay không thường nằm trước phần ý nghĩa của mỗi cột đúng không ạ? Nhưng trong bài này em xin phép hoán đổi thứ tự hai phần này với lí do bởi vì trong phần mô tả ý nghĩa của các cột thì các cột dữ liệu có dạng `categorical` sẽ có các giá trị `unknown` (giá trị thiếu) do đó muốn kiểm tra liệu rằng dữ liệu có bị thiếu hay không thì phải chuyển giá trị `unknown` thành các giá trị `NaN` trước !!!"
   ]
  },
  {
   "cell_type": "code",
   "execution_count": 5,
   "id": "36c08c76",
   "metadata": {
    "ExecuteTime": {
     "end_time": "2022-01-11T14:13:08.237799Z",
     "start_time": "2022-01-11T14:13:08.170588Z"
    }
   },
   "outputs": [
    {
     "data": {
      "text/plain": [
       "age             0\n",
       "job            70\n",
       "marital         0\n",
       "education     497\n",
       "default         0\n",
       "balance         0\n",
       "housing         0\n",
       "loan            0\n",
       "contact      2346\n",
       "day             0\n",
       "month           0\n",
       "duration        0\n",
       "campaign        0\n",
       "pdays           0\n",
       "previous        0\n",
       "poutcome     8326\n",
       "deposit         0\n",
       "dtype: int64"
      ]
     },
     "execution_count": 5,
     "metadata": {},
     "output_type": "execute_result"
    }
   ],
   "source": [
    "bank_df.replace(\"unknown\", np.nan, inplace=True)\n",
    "bank_df.isnull().sum()"
   ]
  },
  {
   "cell_type": "markdown",
   "id": "b6585f7f",
   "metadata": {
    "ExecuteTime": {
     "end_time": "2022-01-11T12:59:19.737513Z",
     "start_time": "2022-01-11T12:59:19.709497Z"
    }
   },
   "source": [
    "Như thầy đã thấy, nếu như em làm bước này trước thì rõ ràng đã bỏ sót 1 lượng lớn các giá trị bị thiếu rồi đúng không ạ :<. Hiện tại có 4 cột dữ liệu bị thiếu là `job`, `education`, `contact` và `poutcome`, em sẽ chưa xử lý chúng ngay bây giờ..."
   ]
  },
  {
   "cell_type": "markdown",
   "id": "2591d9d1",
   "metadata": {},
   "source": [
    "Trong số các cột bị thiếu dữ liệu trên, cột poutcome thiếu quá nhiều dữ liệu (74.59%) do đó em sẽ loại bỏ cột này ra khỏi dữ liệu"
   ]
  },
  {
   "cell_type": "markdown",
   "id": "f220772c",
   "metadata": {},
   "source": [
    "### Mỗi cột hiện đang có kiểu dữ liệu gì? Có cột nào có kiểu dữ liệu chưa phù hợp để có thể xử lý tiếp không?"
   ]
  },
  {
   "cell_type": "code",
   "execution_count": 6,
   "id": "00f927f5",
   "metadata": {
    "ExecuteTime": {
     "end_time": "2022-01-11T14:13:08.283546Z",
     "start_time": "2022-01-11T14:13:08.247546Z"
    }
   },
   "outputs": [
    {
     "data": {
      "text/plain": [
       "age           int64\n",
       "job          object\n",
       "marital      object\n",
       "education    object\n",
       "default      object\n",
       "balance       int64\n",
       "housing      object\n",
       "loan         object\n",
       "contact      object\n",
       "day           int64\n",
       "month        object\n",
       "duration      int64\n",
       "campaign      int64\n",
       "pdays         int64\n",
       "previous      int64\n",
       "poutcome     object\n",
       "deposit      object\n",
       "dtype: object"
      ]
     },
     "execution_count": 6,
     "metadata": {},
     "output_type": "execute_result"
    }
   ],
   "source": [
    "col_dtypes = bank_df.dtypes\n",
    "col_dtypes"
   ]
  },
  {
   "cell_type": "markdown",
   "id": "136f92d4",
   "metadata": {},
   "source": [
    "Có thể thấy tất cả các cột đều có kiểu dữ liệu phù hợp rồi nên em chuyển tiếp tới khám phá phân bố của dữ liệu."
   ]
  },
  {
   "cell_type": "markdown",
   "id": "571ea484",
   "metadata": {},
   "source": [
    "### Với mỗi cột có kiểu dữ liệu dạng numeric, các giá trị được phân bố như thế nào?"
   ]
  },
  {
   "cell_type": "markdown",
   "id": "a994b6f9",
   "metadata": {},
   "source": [
    "- Như đã nói ở trên, tập dữ liệu không có cột nào bị thiếu dữ liệu do đó ở đây, em chỉ xét đến min và max của các cột này.\n",
    "- Các cột có dạng numeric bao gồm: \"age\", \"balance\", \"day\", \"duration\", \"campaign\", \"pdays\", \"previous\"."
   ]
  },
  {
   "cell_type": "code",
   "execution_count": 7,
   "id": "d9ae750a",
   "metadata": {
    "ExecuteTime": {
     "end_time": "2022-01-11T14:13:08.377747Z",
     "start_time": "2022-01-11T14:13:08.292272Z"
    }
   },
   "outputs": [
    {
     "data": {
      "text/html": [
       "<div>\n",
       "<style scoped>\n",
       "    .dataframe tbody tr th:only-of-type {\n",
       "        vertical-align: middle;\n",
       "    }\n",
       "\n",
       "    .dataframe tbody tr th {\n",
       "        vertical-align: top;\n",
       "    }\n",
       "\n",
       "    .dataframe thead th {\n",
       "        text-align: right;\n",
       "    }\n",
       "</style>\n",
       "<table border=\"1\" class=\"dataframe\">\n",
       "  <thead>\n",
       "    <tr style=\"text-align: right;\">\n",
       "      <th></th>\n",
       "      <th>age</th>\n",
       "      <th>balance</th>\n",
       "      <th>day</th>\n",
       "      <th>duration</th>\n",
       "      <th>campaign</th>\n",
       "      <th>pdays</th>\n",
       "      <th>previous</th>\n",
       "    </tr>\n",
       "  </thead>\n",
       "  <tbody>\n",
       "    <tr>\n",
       "      <th>missing_ratio</th>\n",
       "      <td>0.0</td>\n",
       "      <td>0.0</td>\n",
       "      <td>0.0</td>\n",
       "      <td>0.0</td>\n",
       "      <td>0.0</td>\n",
       "      <td>0.0</td>\n",
       "      <td>0.0</td>\n",
       "    </tr>\n",
       "    <tr>\n",
       "      <th>min</th>\n",
       "      <td>18.0</td>\n",
       "      <td>-6847.0</td>\n",
       "      <td>1.0</td>\n",
       "      <td>2.0</td>\n",
       "      <td>1.0</td>\n",
       "      <td>-1.0</td>\n",
       "      <td>0.0</td>\n",
       "    </tr>\n",
       "    <tr>\n",
       "      <th>max</th>\n",
       "      <td>95.0</td>\n",
       "      <td>81204.0</td>\n",
       "      <td>31.0</td>\n",
       "      <td>3881.0</td>\n",
       "      <td>63.0</td>\n",
       "      <td>854.0</td>\n",
       "      <td>58.0</td>\n",
       "    </tr>\n",
       "  </tbody>\n",
       "</table>\n",
       "</div>"
      ],
      "text/plain": [
       "                age  balance   day  duration  campaign  pdays  previous\n",
       "missing_ratio   0.0      0.0   0.0       0.0       0.0    0.0       0.0\n",
       "min            18.0  -6847.0   1.0       2.0       1.0   -1.0       0.0\n",
       "max            95.0  81204.0  31.0    3881.0      63.0  854.0      58.0"
      ]
     },
     "execution_count": 7,
     "metadata": {},
     "output_type": "execute_result"
    }
   ],
   "source": [
    "num_cols = [\"age\", \"balance\", \"day\", \"duration\", \"campaign\", \"pdays\", \"previous\"]\n",
    "numeric_cols = bank_df[num_cols]\n",
    "miss = numeric_cols.isna().mean() * 100\n",
    "min_val = numeric_cols.min()\n",
    "max_val = numeric_cols.max()\n",
    "nume_col_profiles_df = pd.DataFrame([miss, min_val,max_val], \n",
    "                                    columns = num_cols,\n",
    "                                    index = [\"missing_ratio\", \"min\", \"max\"])\n",
    "nume_col_profiles_df"
   ]
  },
  {
   "cell_type": "markdown",
   "id": "3d9ce4dd",
   "metadata": {},
   "source": [
    "- Khoan khoan, hình như là có khá nhiều điểm bất thường trong các giá trị min/max của các cột numeric:\n",
    "    - Ở cột `age`, người khách hàng lớn tuổi nhất được marketing về dịch vụ tiền gửi có kỳ hạn là 95 ^^, giả sử họ đồng ý đăng ký gửi tiền có kỳ hạn, liệu họ có còn sống đến lúc nhận lại được số tiền hay không ?\n",
    "    - Ở cột `balance`, ngân hàng thậm chí marketing với cả những khách hàng hiện có số tiền trong tài khoản ở mức âm, có lẽ ở những trường hợp này thì tỉ lệ thất bại khá cao :<\n",
    "    - Ở cột `duration`, giá trị `min = 2` có nghĩa là người tư vấn còn chưa kịp giới thiệu bản thân thì đã bị cúp máy rồi, khá giống với các trường hợp telesale ở Việt Nam !\n",
    "    - Ở cột `campaign` và `previous`, có khách hàng thậm chí được liên lạc đến `63` và `58` lần trong 1 chiến dịch, đây là những khách hàng tiềm năng chăng ?"
   ]
  },
  {
   "cell_type": "markdown",
   "id": "6b570811",
   "metadata": {
    "ExecuteTime": {
     "end_time": "2022-01-10T09:31:28.366528Z",
     "start_time": "2022-01-10T09:31:28.356509Z"
    }
   },
   "source": [
    "- Vì chênh lệch giữa min và max của `age` và `balance` có độ rộng lớn do đó em sẽ vẽ biểu đồ `histogram` của 2 thuộc tính này để có cái nhìn rõ hơn về tập khách hàng của chiến dịch."
   ]
  },
  {
   "cell_type": "code",
   "execution_count": 8,
   "id": "c0df0916",
   "metadata": {
    "ExecuteTime": {
     "end_time": "2022-01-11T14:13:09.095313Z",
     "start_time": "2022-01-11T14:13:08.383350Z"
    }
   },
   "outputs": [
    {
     "data": {
      "image/png": "[encoded data removed]",
      "text/plain": [
       "<Figure size 720x720 with 2 Axes>"
      ]
     },
     "metadata": {
      "needs_background": "light"
     },
     "output_type": "display_data"
    }
   ],
   "source": [
    "figure, axis = plt.subplots(1, 2, figsize=(10,10))\n",
    "\n",
    "axis[0].hist(numeric_cols[\"age\"], color = \"#33AAFF\", edgecolor=\"#1D1EA2\")\n",
    "axis[0].set_title(\"age\")\n",
    "\n",
    "axis[1].hist(numeric_cols[\"balance\"], color = \"#33AAFF\", edgecolor=\"#1D1EA2\")\n",
    "axis[1].set_title(\"balance\")\n",
    "\n",
    "plt.subplots_adjust(right=2)\n",
    "plt.show()"
   ]
  },
  {
   "cell_type": "markdown",
   "id": "b2b11a37",
   "metadata": {},
   "source": [
    "- Độ tuổi trung bình của tập khách hàng rơi vào khoảng 40 tuổi, vẫn có rất nhiều trường hợp có số tuổi lớn hơn 70 tuổi, thậm chí cao nhất là 95 tuổi. Tập khách hàng chủ yếu rơi vào khoảng từ 25 đến 40 tuổi.\n",
    "- Có thể thấy thì chiến dịch marketing của ngân hàng này nhắm phần lớn vào tập khách hàng có số tiền trong tài khoản ở mức trung bình khá (từ 0 cho đến 20000). Có một lượng khách hàng có số tiền trong tài khoản ở mức âm và bên cạnh đó có khoảng 6 khách hàng có rất nhiều tiền trong tài khoản (từ 40000 cho đến 60000).\n",
    "- Riêng đối cột `balance` thì số lượng outlier (theo quy ước chuẩn The position of the whiskers = 1.5) rất nhiều."
   ]
  },
  {
   "cell_type": "markdown",
   "id": "032d2986",
   "metadata": {},
   "source": [
    "### Với mỗi cột có kiểu dữ liệu dạng categorical, các giá trị được phân bố như thế nào?"
   ]
  },
  {
   "cell_type": "markdown",
   "id": "f71c8819",
   "metadata": {},
   "source": [
    "- Tập dữ liệu có các cột categorical là \"job\", \"marital\", \"education\", \"default\", \"housing\", \"loan\", \"contact\", \"month\", \"poutcome\" và \"deposit\"\n",
    "- Với mỗi cột categorical, bởi vì đã nói ở trên là không có cột nào bị thiếu dữ liệu do đó em sẽ đếm số lượng giá trị khác nhau (không xét giá trị thiếu), list/array các giá trị khác nhau (không xét giá trị thiếu).\n",
    "- Kết quả em sẽ lưu vào dataframe `cate_col_distribution`."
   ]
  },
  {
   "cell_type": "code",
   "execution_count": 9,
   "id": "79a813dd",
   "metadata": {
    "ExecuteTime": {
     "end_time": "2022-01-11T14:13:09.219272Z",
     "start_time": "2022-01-11T14:13:09.101293Z"
    }
   },
   "outputs": [
    {
     "data": {
      "text/html": [
       "<div>\n",
       "<style scoped>\n",
       "    .dataframe tbody tr th:only-of-type {\n",
       "        vertical-align: middle;\n",
       "    }\n",
       "\n",
       "    .dataframe tbody tr th {\n",
       "        vertical-align: top;\n",
       "    }\n",
       "\n",
       "    .dataframe thead th {\n",
       "        text-align: right;\n",
       "    }\n",
       "</style>\n",
       "<table border=\"1\" class=\"dataframe\">\n",
       "  <thead>\n",
       "    <tr style=\"text-align: right;\">\n",
       "      <th></th>\n",
       "      <th>job</th>\n",
       "      <th>marital</th>\n",
       "      <th>education</th>\n",
       "      <th>default</th>\n",
       "      <th>housing</th>\n",
       "      <th>loan</th>\n",
       "      <th>contact</th>\n",
       "      <th>month</th>\n",
       "      <th>poutcome</th>\n",
       "      <th>deposit</th>\n",
       "    </tr>\n",
       "  </thead>\n",
       "  <tbody>\n",
       "    <tr>\n",
       "      <th>missing ratio</th>\n",
       "      <td>0.627128</td>\n",
       "      <td>0.0</td>\n",
       "      <td>4.452607</td>\n",
       "      <td>0.0</td>\n",
       "      <td>0.0</td>\n",
       "      <td>0.0</td>\n",
       "      <td>21.017739</td>\n",
       "      <td>0.0</td>\n",
       "      <td>74.592367</td>\n",
       "      <td>0.0</td>\n",
       "    </tr>\n",
       "    <tr>\n",
       "      <th>num_diff_vals</th>\n",
       "      <td>11</td>\n",
       "      <td>3</td>\n",
       "      <td>3</td>\n",
       "      <td>2</td>\n",
       "      <td>2</td>\n",
       "      <td>2</td>\n",
       "      <td>2</td>\n",
       "      <td>12</td>\n",
       "      <td>3</td>\n",
       "      <td>2</td>\n",
       "    </tr>\n",
       "    <tr>\n",
       "      <th>diff_vals</th>\n",
       "      <td>[admin., technician, services, management, ret...</td>\n",
       "      <td>[married, single, divorced]</td>\n",
       "      <td>[secondary, tertiary, primary]</td>\n",
       "      <td>[no, yes]</td>\n",
       "      <td>[yes, no]</td>\n",
       "      <td>[no, yes]</td>\n",
       "      <td>[cellular, telephone]</td>\n",
       "      <td>[may, jun, jul, aug, oct, nov, dec, jan, feb, ...</td>\n",
       "      <td>[other, failure, success]</td>\n",
       "      <td>[yes, no]</td>\n",
       "    </tr>\n",
       "  </tbody>\n",
       "</table>\n",
       "</div>"
      ],
      "text/plain": [
       "                                                             job  \\\n",
       "missing ratio                                           0.627128   \n",
       "num_diff_vals                                                 11   \n",
       "diff_vals      [admin., technician, services, management, ret...   \n",
       "\n",
       "                                   marital                       education  \\\n",
       "missing ratio                          0.0                        4.452607   \n",
       "num_diff_vals                            3                               3   \n",
       "diff_vals      [married, single, divorced]  [secondary, tertiary, primary]   \n",
       "\n",
       "                 default    housing       loan                contact  \\\n",
       "missing ratio        0.0        0.0        0.0              21.017739   \n",
       "num_diff_vals          2          2          2                      2   \n",
       "diff_vals      [no, yes]  [yes, no]  [no, yes]  [cellular, telephone]   \n",
       "\n",
       "                                                           month  \\\n",
       "missing ratio                                                0.0   \n",
       "num_diff_vals                                                 12   \n",
       "diff_vals      [may, jun, jul, aug, oct, nov, dec, jan, feb, ...   \n",
       "\n",
       "                                poutcome    deposit  \n",
       "missing ratio                  74.592367        0.0  \n",
       "num_diff_vals                          3          2  \n",
       "diff_vals      [other, failure, success]  [yes, no]  "
      ]
     },
     "execution_count": 9,
     "metadata": {},
     "output_type": "execute_result"
    }
   ],
   "source": [
    "cate_cols = [\"job\", \"marital\", \"education\", \"default\", \"housing\", \n",
    "             \"loan\", \"contact\", \"month\", \"poutcome\", \"deposit\"]\n",
    "categorical_cols = bank_df[cate_cols]\n",
    "\n",
    "miss = categorical_cols.isna().mean() * 100\n",
    "num_diff = categorical_cols.nunique()\n",
    "diff = categorical_cols.apply(lambda x: x.dropna().unique())\n",
    "\n",
    "cate_col_profiles_df = pd.DataFrame([miss, num_diff, diff], \n",
    "                                    columns = cate_cols,\n",
    "                                    index = [\"missing ratio\", \"num_diff_vals\", \"diff_vals\"])\n",
    "cate_col_profiles_df"
   ]
  },
  {
   "cell_type": "markdown",
   "id": "2cde8552",
   "metadata": {
    "ExecuteTime": {
     "end_time": "2022-01-11T11:39:50.592142Z",
     "start_time": "2022-01-11T11:39:50.554580Z"
    }
   },
   "source": [
    "### Làm rõ hơn ý nghĩa cột `poutcome`"
   ]
  },
  {
   "cell_type": "markdown",
   "id": "e2b1ed0c",
   "metadata": {},
   "source": [
    "- Theo như mô tả trên `UCI Machine Learning Repository` thì cột `poutcome` chỉ có 3 giá trị là `failure`, `nonexistent`, `success` tuy nhiên khi kiểm tra lại về `num_diff_vals` của nó thì lại có đến có giá trị `other`.\n",
    "- Chọn ra các dòng có giá trị `poutcome` là `other` để kiểm tra"
   ]
  },
  {
   "cell_type": "code",
   "execution_count": 10,
   "id": "22a06bc1",
   "metadata": {
    "ExecuteTime": {
     "end_time": "2022-01-11T14:13:09.280684Z",
     "start_time": "2022-01-11T14:13:09.222272Z"
    }
   },
   "outputs": [
    {
     "data": {
      "text/html": [
       "<div>\n",
       "<style scoped>\n",
       "    .dataframe tbody tr th:only-of-type {\n",
       "        vertical-align: middle;\n",
       "    }\n",
       "\n",
       "    .dataframe tbody tr th {\n",
       "        vertical-align: top;\n",
       "    }\n",
       "\n",
       "    .dataframe thead th {\n",
       "        text-align: right;\n",
       "    }\n",
       "</style>\n",
       "<table border=\"1\" class=\"dataframe\">\n",
       "  <thead>\n",
       "    <tr style=\"text-align: right;\">\n",
       "      <th></th>\n",
       "      <th>age</th>\n",
       "      <th>job</th>\n",
       "      <th>marital</th>\n",
       "      <th>education</th>\n",
       "      <th>default</th>\n",
       "      <th>balance</th>\n",
       "      <th>housing</th>\n",
       "      <th>loan</th>\n",
       "      <th>contact</th>\n",
       "      <th>day</th>\n",
       "      <th>month</th>\n",
       "      <th>duration</th>\n",
       "      <th>campaign</th>\n",
       "      <th>pdays</th>\n",
       "      <th>previous</th>\n",
       "      <th>poutcome</th>\n",
       "      <th>deposit</th>\n",
       "    </tr>\n",
       "  </thead>\n",
       "  <tbody>\n",
       "    <tr>\n",
       "      <th>890</th>\n",
       "      <td>42</td>\n",
       "      <td>admin.</td>\n",
       "      <td>single</td>\n",
       "      <td>secondary</td>\n",
       "      <td>no</td>\n",
       "      <td>-247</td>\n",
       "      <td>yes</td>\n",
       "      <td>yes</td>\n",
       "      <td>telephone</td>\n",
       "      <td>21</td>\n",
       "      <td>oct</td>\n",
       "      <td>519</td>\n",
       "      <td>1</td>\n",
       "      <td>166</td>\n",
       "      <td>1</td>\n",
       "      <td>other</td>\n",
       "      <td>yes</td>\n",
       "    </tr>\n",
       "    <tr>\n",
       "      <th>961</th>\n",
       "      <td>34</td>\n",
       "      <td>management</td>\n",
       "      <td>single</td>\n",
       "      <td>tertiary</td>\n",
       "      <td>no</td>\n",
       "      <td>1494</td>\n",
       "      <td>yes</td>\n",
       "      <td>no</td>\n",
       "      <td>cellular</td>\n",
       "      <td>18</td>\n",
       "      <td>nov</td>\n",
       "      <td>596</td>\n",
       "      <td>1</td>\n",
       "      <td>182</td>\n",
       "      <td>1</td>\n",
       "      <td>other</td>\n",
       "      <td>yes</td>\n",
       "    </tr>\n",
       "    <tr>\n",
       "      <th>968</th>\n",
       "      <td>46</td>\n",
       "      <td>management</td>\n",
       "      <td>married</td>\n",
       "      <td>tertiary</td>\n",
       "      <td>no</td>\n",
       "      <td>0</td>\n",
       "      <td>no</td>\n",
       "      <td>no</td>\n",
       "      <td>cellular</td>\n",
       "      <td>18</td>\n",
       "      <td>nov</td>\n",
       "      <td>716</td>\n",
       "      <td>2</td>\n",
       "      <td>110</td>\n",
       "      <td>3</td>\n",
       "      <td>other</td>\n",
       "      <td>yes</td>\n",
       "    </tr>\n",
       "    <tr>\n",
       "      <th>977</th>\n",
       "      <td>43</td>\n",
       "      <td>management</td>\n",
       "      <td>married</td>\n",
       "      <td>tertiary</td>\n",
       "      <td>no</td>\n",
       "      <td>1429</td>\n",
       "      <td>yes</td>\n",
       "      <td>no</td>\n",
       "      <td>cellular</td>\n",
       "      <td>19</td>\n",
       "      <td>nov</td>\n",
       "      <td>1015</td>\n",
       "      <td>1</td>\n",
       "      <td>198</td>\n",
       "      <td>2</td>\n",
       "      <td>other</td>\n",
       "      <td>yes</td>\n",
       "    </tr>\n",
       "    <tr>\n",
       "      <th>982</th>\n",
       "      <td>33</td>\n",
       "      <td>technician</td>\n",
       "      <td>single</td>\n",
       "      <td>tertiary</td>\n",
       "      <td>no</td>\n",
       "      <td>149</td>\n",
       "      <td>yes</td>\n",
       "      <td>no</td>\n",
       "      <td>cellular</td>\n",
       "      <td>19</td>\n",
       "      <td>nov</td>\n",
       "      <td>424</td>\n",
       "      <td>2</td>\n",
       "      <td>182</td>\n",
       "      <td>1</td>\n",
       "      <td>other</td>\n",
       "      <td>yes</td>\n",
       "    </tr>\n",
       "  </tbody>\n",
       "</table>\n",
       "</div>"
      ],
      "text/plain": [
       "     age         job  marital  education default  balance housing loan  \\\n",
       "890   42      admin.   single  secondary      no     -247     yes  yes   \n",
       "961   34  management   single   tertiary      no     1494     yes   no   \n",
       "968   46  management  married   tertiary      no        0      no   no   \n",
       "977   43  management  married   tertiary      no     1429     yes   no   \n",
       "982   33  technician   single   tertiary      no      149     yes   no   \n",
       "\n",
       "       contact  day month  duration  campaign  pdays  previous poutcome  \\\n",
       "890  telephone   21   oct       519         1    166         1    other   \n",
       "961   cellular   18   nov       596         1    182         1    other   \n",
       "968   cellular   18   nov       716         2    110         3    other   \n",
       "977   cellular   19   nov      1015         1    198         2    other   \n",
       "982   cellular   19   nov       424         2    182         1    other   \n",
       "\n",
       "    deposit  \n",
       "890     yes  \n",
       "961     yes  \n",
       "968     yes  \n",
       "977     yes  \n",
       "982     yes  "
      ]
     },
     "execution_count": 10,
     "metadata": {},
     "output_type": "execute_result"
    }
   ],
   "source": [
    "bank_df[bank_df[\"poutcome\"] == \"other\"].head()"
   ]
  },
  {
   "cell_type": "markdown",
   "id": "0c908e75",
   "metadata": {},
   "source": [
    "- Có thể thấy rằng những dòng có giá trị `poutcome` là `other` đều là những khách hàng cũ đã từng được liên lạc trong các chiến dịch marketing trước nhưng có kết quả `poutcome` không rõ ràng.\n",
    "- `other` là 1 khái niệm quá rộng, không thể khai thác được điều gì, do đó thay vì để giá trị là `other` em sẽ chuyển nó về `nonexistent` giống như mô tả của tập dữ liệu."
   ]
  },
  {
   "cell_type": "code",
   "execution_count": 12,
   "id": "0529b9f4",
   "metadata": {
    "ExecuteTime": {
     "end_time": "2022-01-11T14:13:20.414807Z",
     "start_time": "2022-01-11T14:13:20.388239Z"
    }
   },
   "outputs": [
    {
     "data": {
      "text/plain": [
       "failure    1228\n",
       "success    1071\n",
       "other       537\n",
       "Name: poutcome, dtype: int64"
      ]
     },
     "execution_count": 12,
     "metadata": {},
     "output_type": "execute_result"
    }
   ],
   "source": [
    "bank_df[\"poutcome\"].value_counts()"
   ]
  },
  {
   "cell_type": "code",
   "execution_count": 11,
   "id": "cfeb4960",
   "metadata": {
    "ExecuteTime": {
     "end_time": "2022-01-11T14:13:09.296680Z",
     "start_time": "2022-01-11T14:13:09.285685Z"
    }
   },
   "outputs": [],
   "source": [
    "# bank_df[\"poutcome\"] = bank_df[\"poutcome\"].replace([\"unknown\", \"other\"], \"nonexistent\")\n",
    "# bank_df[\"poutcome\"].unique()"
   ]
  },
  {
   "cell_type": "markdown",
   "id": "a60f56d0",
   "metadata": {},
   "source": [
    "---"
   ]
  },
  {
   "cell_type": "markdown",
   "id": "3b9c4658",
   "metadata": {},
   "source": [
    "## Đưa ra các câu hỏi cần trả lời"
   ]
  },
  {
   "cell_type": "markdown",
   "id": "b8bad2a6",
   "metadata": {},
   "source": [
    "Sau khi đã khám phá dữ liệu, nhóm em nhận thấy có một số câu hỏi có thể được trả lời bằng dữ liệu như sau:\n",
    "- **Câu hỏi**: Ở độ tuổi nào thì khách hàng có xu hướng gửi tiền có kỳ hạn cao nhất?\n",
    "    - **Ý Nghĩa**: Giúp ngân hàng gom nhóm khác hàng theo độ tuổi có khả năng cao mở tài khoản tiền gửi có kỳ hạn để tập trung cho nhóm này cho chiến dịch kế tiếp.\n",
    "- **Câu hỏi**: Tỉ lệ những khách hàng có giá trị `poutcome` là `success` và đồng ý mở tài khoản tiền gửi có kỳ hạn\n",
    "    - **Ý Nghĩa**: Tập khách hàng này là những khách hàng đã ngân hàng liên lạc trong 1 chiến dịch marketing trước đó và họ đồng ý tham gia với chương trình của ngân hàng, nếu tỉ lệ những khách hàng này tiếp tục đồng ý tham gia với chiến dịch tiền gửi có kỳ hạn lần này thì có lẽ rằng vơi những chiến dịch kế tiếp, ngân hàng nên đánh mạnh vào tập khách hàng mà đã đồng ý tham gia các chiến dịch trước đó của họ.\n",
    "- **Câu hỏi**: Số cuộc liên lạc của khách hàng theo từng tháng là bao nhiêu? Tháng nào có tỉ lệ thành công cao nhất?\n",
    "    - **Ý Nghĩa**: Thời điểm liên lạc cho khách hàng đóng vai trò khá quan trọng đến việc liệu rằng họ có chấp nhận mở tài khoản tiền gửi có kỳ hạn hay không. Nắm bắt được thời điểm này sẽ giúp ngân hàng tiết kiệm thời gian hơn trong việc liên lạc với khách hàng\n",
    "- **Câu hỏi**: Liệu chúng ta có thể tận dụng tập dữ liệu để xây dựng mô hình dự đoán cho các chiến dịch lần sau hay không? Vậy chúng ta có thể biết trước được 1 khách hàng có tham gia tiền gửi có kỳ hạn hay không dựa vào tập dữ liệu?"
   ]
  }
 ],
 "metadata": {
  "kernelspec": {
   "display_name": "Python 3 (ipykernel)",
   "language": "python",
   "name": "python3"
  },
  "language_info": {
   "codemirror_mode": {
    "name": "ipython",
    "version": 3
   },
   "file_extension": ".py",
   "mimetype": "text/x-python",
   "name": "python",
   "nbconvert_exporter": "python",
   "pygments_lexer": "ipython3",
   "version": "3.8.8"
  }
 },
 "nbformat": 4,
 "nbformat_minor": 5
}
